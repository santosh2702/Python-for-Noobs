{
 "cells": [
  {
   "cell_type": "markdown",
   "metadata": {},
   "source": [
    "# Introduction to python"
   ]
  },
  {
   "cell_type": "markdown",
   "metadata": {},
   "source": [
    "### print hello world"
   ]
  },
  {
   "cell_type": "code",
   "execution_count": 3,
   "metadata": {},
   "outputs": [
    {
     "name": "stdout",
     "output_type": "stream",
     "text": [
      "Hello World\n"
     ]
    }
   ],
   "source": [
    "print(\"Hello World\")"
   ]
  },
  {
   "cell_type": "markdown",
   "metadata": {},
   "source": [
    "### Variables"
   ]
  },
  {
   "cell_type": "code",
   "execution_count": 15,
   "metadata": {},
   "outputs": [
    {
     "name": "stdout",
     "output_type": "stream",
     "text": [
      "22\n",
      "<class 'int'>\n"
     ]
    }
   ],
   "source": [
    "a=2\n",
    "b=20\n",
    "sum=a+b\n",
    "print(sum)\n",
    "print(type(sum))"
   ]
  },
  {
   "cell_type": "code",
   "execution_count": 22,
   "metadata": {},
   "outputs": [
    {
     "name": "stdout",
     "output_type": "stream",
     "text": [
      "8.200\n"
     ]
    }
   ],
   "source": [
    "a=2.5\n",
    "b=5.7\n",
    "sum=a+b\n",
    "print(format(sum,'.3f'))\n",
    "# here we get the answer 8.2 but if we want the answer to be upto 3 decimal place then we need to use format & '.3f'"
   ]
  },
  {
   "cell_type": "markdown",
   "metadata": {},
   "source": [
    "### Numbers are stored in variable contains the address of the variables not the data"
   ]
  },
  {
   "cell_type": "code",
   "execution_count": 9,
   "metadata": {},
   "outputs": [
    {
     "name": "stdout",
     "output_type": "stream",
     "text": [
      "140712232630336\n",
      "140712232630336\n",
      "1826538055344\n",
      "1826538055408\n"
     ]
    }
   ],
   "source": [
    "a=10\n",
    "b=10\n",
    "print(id(a))\n",
    "print(id(b))\n",
    "#it stores the same address, but the optimization is limited to -5 to 256 as these data are used in variable more often\n",
    "a=1000\n",
    "b=1000\n",
    "print(id(a))\n",
    "print(id(b))"
   ]
  },
  {
   "cell_type": "markdown",
   "metadata": {},
   "source": [
    "### Arithematic operator"
   ]
  },
  {
   "cell_type": "code",
   "execution_count": 10,
   "metadata": {},
   "outputs": [
    {
     "name": "stdout",
     "output_type": "stream",
     "text": [
      "6\n",
      "14\n"
     ]
    }
   ],
   "source": [
    "a=10\n",
    "b=4\n",
    "print(a-b)\n",
    "print(a+b)"
   ]
  },
  {
   "cell_type": "code",
   "execution_count": 11,
   "metadata": {},
   "outputs": [
    {
     "data": {
      "text/plain": [
       "40"
      ]
     },
     "execution_count": 11,
     "metadata": {},
     "output_type": "execute_result"
    }
   ],
   "source": [
    "a*b"
   ]
  },
  {
   "cell_type": "code",
   "execution_count": 12,
   "metadata": {},
   "outputs": [
    {
     "data": {
      "text/plain": [
       "2.5"
      ]
     },
     "execution_count": 12,
     "metadata": {},
     "output_type": "execute_result"
    }
   ],
   "source": [
    "a/b\n",
    "#here in python the decimal value is also considered in the output rather than java or any other oops languages"
   ]
  },
  {
   "cell_type": "code",
   "execution_count": 13,
   "metadata": {},
   "outputs": [
    {
     "data": {
      "text/plain": [
       "2"
      ]
     },
     "execution_count": 13,
     "metadata": {},
     "output_type": "execute_result"
    }
   ],
   "source": [
    "#to make it performs only the integer output we need to perform \"integer division\" by using'//'\n",
    "a//b"
   ]
  },
  {
   "cell_type": "code",
   "execution_count": 14,
   "metadata": {},
   "outputs": [
    {
     "data": {
      "text/plain": [
       "10000"
      ]
     },
     "execution_count": 14,
     "metadata": {},
     "output_type": "execute_result"
    }
   ],
   "source": [
    "a**b # exponential"
   ]
  },
  {
   "cell_type": "code",
   "execution_count": 15,
   "metadata": {},
   "outputs": [
    {
     "data": {
      "text/plain": [
       "2"
      ]
     },
     "execution_count": 15,
     "metadata": {},
     "output_type": "execute_result"
    }
   ],
   "source": [
    "a%b"
   ]
  },
  {
   "cell_type": "markdown",
   "metadata": {},
   "source": [
    "### input"
   ]
  },
  {
   "cell_type": "code",
   "execution_count": 16,
   "metadata": {},
   "outputs": [
    {
     "name": "stdout",
     "output_type": "stream",
     "text": [
      "23\n",
      "23\n"
     ]
    }
   ],
   "source": [
    "a=input()\n",
    "print(a)"
   ]
  },
  {
   "cell_type": "code",
   "execution_count": 20,
   "metadata": {},
   "outputs": [
    {
     "name": "stdout",
     "output_type": "stream",
     "text": [
      "23\n",
      "34\n",
      "2334\n",
      "<class 'str'>\n",
      "<class 'str'>\n"
     ]
    }
   ],
   "source": [
    "a=input()\n",
    "b=input()\n",
    "sum=a+b\n",
    "print(sum)\n",
    "print(type(a))\n",
    "print(type(b))\n",
    "\n",
    "#here we are not getting the correct output for that as 23+34=57 so here the problem is that we are not assigning any value\n",
    "#to the input so python consider it in any data type here its taking 'a' and 'b' as string"
   ]
  },
  {
   "cell_type": "code",
   "execution_count": 21,
   "metadata": {},
   "outputs": [
    {
     "name": "stdout",
     "output_type": "stream",
     "text": [
      "23\n",
      "34\n",
      "57\n",
      "<class 'int'>\n",
      "<class 'int'>\n"
     ]
    }
   ],
   "source": [
    "#so in order to make it in integer we do it while assigning it \n",
    "a=int(input())\n",
    "b=int(input())\n",
    "sum=a+b\n",
    "print(sum)\n",
    "print(type(a))\n",
    "print(type(b))"
   ]
  },
  {
   "cell_type": "code",
   "execution_count": 3,
   "metadata": {},
   "outputs": [
    {
     "name": "stdout",
     "output_type": "stream",
     "text": [
      "4\n",
      "4.8\n",
      "Output  8.8\n"
     ]
    }
   ],
   "source": [
    "# in order to take string value from user we can simply convert it into integer using eval built in function\n",
    "# The eval function evaluates the “String” like a python expression and returns the result as an integer\n",
    "a=input()\n",
    "b=input()\n",
    "print(\"Output \",eval(a)+eval(b))"
   ]
  },
  {
   "cell_type": "markdown",
   "metadata": {},
   "source": [
    "### Relational operator"
   ]
  },
  {
   "cell_type": "code",
   "execution_count": 23,
   "metadata": {},
   "outputs": [
    {
     "name": "stdout",
     "output_type": "stream",
     "text": [
      "False\n",
      "True\n",
      "True\n",
      "False\n"
     ]
    }
   ],
   "source": [
    "a=10\n",
    "b=20\n",
    "print(a>b)\n",
    "print(a<b)\n",
    "print(a!=b)\n",
    "print(a==b)"
   ]
  },
  {
   "cell_type": "markdown",
   "metadata": {},
   "source": [
    "### Logical Operator"
   ]
  },
  {
   "cell_type": "code",
   "execution_count": 25,
   "metadata": {},
   "outputs": [
    {
     "name": "stdout",
     "output_type": "stream",
     "text": [
      "False\n",
      "True\n",
      "False\n"
     ]
    }
   ],
   "source": [
    "c1=a>10\n",
    "c2=b>10\n",
    "print(c1 and c2)\n",
    "print(c1 or c2)\n",
    "print(not c2)"
   ]
  },
  {
   "cell_type": "markdown",
   "metadata": {},
   "source": [
    "### Control statements"
   ]
  },
  {
   "cell_type": "raw",
   "metadata": {},
   "source": [
    "There are three fundamental control statements\n",
    "1.sequential 2. selection(if,elif,if else) 3. Iterative (For and While)"
   ]
  },
  {
   "cell_type": "markdown",
   "metadata": {},
   "source": [
    "### If Else"
   ]
  },
  {
   "cell_type": "code",
   "execution_count": 27,
   "metadata": {},
   "outputs": [
    {
     "name": "stdout",
     "output_type": "stream",
     "text": [
      "if statement\n",
      "else statement\n"
     ]
    }
   ],
   "source": [
    "a=True\n",
    "if a:\n",
    "    print(\"if statement\")\n",
    "else:\n",
    "    print(\"else statement\")\n",
    "\n",
    "b=False\n",
    "if b:\n",
    "    print(\"if statement\")\n",
    "else:\n",
    "    print(\"else statement\")"
   ]
  },
  {
   "cell_type": "code",
   "execution_count": 28,
   "metadata": {},
   "outputs": [
    {
     "name": "stdout",
     "output_type": "stream",
     "text": [
      "2\n",
      "Even\n"
     ]
    }
   ],
   "source": [
    "# Now lets take an example of if else statment for even and odd\n",
    "n=int(input())\n",
    "r=n%2==0\n",
    "if r:\n",
    "    print(\"Even\")\n",
    "else:\n",
    "    print(\"Odd\")\n"
   ]
  },
  {
   "cell_type": "markdown",
   "metadata": {},
   "source": [
    "### Using Operators in if else"
   ]
  },
  {
   "cell_type": "code",
   "execution_count": 29,
   "metadata": {},
   "outputs": [
    {
     "name": "stdout",
     "output_type": "stream",
     "text": [
      "20\n",
      "12\n",
      "both are greater than 10\n"
     ]
    }
   ],
   "source": [
    "a=int(input())\n",
    "b=int(input())\n",
    "if a>10 and b>10:\n",
    "    print(\"both are greater than 10\")\n",
    "else:\n",
    "    print(\"No they are not\")"
   ]
  },
  {
   "cell_type": "markdown",
   "metadata": {},
   "source": [
    "### ELse IF"
   ]
  },
  {
   "cell_type": "code",
   "execution_count": 30,
   "metadata": {},
   "outputs": [
    {
     "name": "stdout",
     "output_type": "stream",
     "text": [
      "16\n",
      "23\n",
      "43\n",
      "c is greatest\n"
     ]
    }
   ],
   "source": [
    "a=int(input())\n",
    "b=int(input())\n",
    "c=int(input())\n",
    "if a>b and a>c:\n",
    "    print(\"a is greatest\")\n",
    "elif b>a and b>c:\n",
    "    print(\"b is greatest\")\n",
    "else:\n",
    "    print(\"c is greatest\")"
   ]
  },
  {
   "cell_type": "markdown",
   "metadata": {},
   "source": [
    "### Nested If else"
   ]
  },
  {
   "cell_type": "code",
   "execution_count": 31,
   "metadata": {},
   "outputs": [
    {
     "name": "stdout",
     "output_type": "stream",
     "text": [
      "4\n",
      "3\n",
      "1\n"
     ]
    }
   ],
   "source": [
    "# Its basically if else within if else \n",
    "# so if we take an example where we want to print if (n is even we check m is even or not)but if(n is odd we print odd)\n",
    "\n",
    "n=int(input())\n",
    "m=int(input())\n",
    "\n",
    "if n%2==0:\n",
    "    if m%2==0:\n",
    "        print(2)\n",
    "    else:\n",
    "        print(1)\n",
    "else:\n",
    "    print(\"odd\")"
   ]
  },
  {
   "cell_type": "markdown",
   "metadata": {},
   "source": [
    "### Ternary operator"
   ]
  },
  {
   "cell_type": "code",
   "execution_count": 2,
   "metadata": {},
   "outputs": [
    {
     "name": "stdout",
     "output_type": "stream",
     "text": [
      "10\n"
     ]
    }
   ],
   "source": [
    "# They are used as conditional statement instead of using if else we can use ternary operator\n",
    "a, b = 5, 10\n",
    "print((a, b)[a<b])"
   ]
  },
  {
   "cell_type": "markdown",
   "metadata": {},
   "source": [
    "### While loop"
   ]
  },
  {
   "cell_type": "code",
   "execution_count": 32,
   "metadata": {},
   "outputs": [
    {
     "name": "stdout",
     "output_type": "stream",
     "text": [
      "4\n",
      "4\n",
      "3\n",
      "2\n",
      "1\n"
     ]
    }
   ],
   "source": [
    "# print first n natural numbers in reverse order\n",
    "n=int(input())\n",
    "while n>0:\n",
    "    print(n)\n",
    "    n+=-1"
   ]
  },
  {
   "cell_type": "markdown",
   "metadata": {},
   "source": [
    "### check prime"
   ]
  },
  {
   "cell_type": "code",
   "execution_count": 36,
   "metadata": {},
   "outputs": [
    {
     "name": "stdout",
     "output_type": "stream",
     "text": [
      "10\n",
      "Not a prime no\n"
     ]
    }
   ],
   "source": [
    "n=int(input())\n",
    "count=0\n",
    "i=2\n",
    "while i<n:\n",
    "    if n%i==0:\n",
    "        count+=1\n",
    "        break\n",
    "        i+=1\n",
    "    else:\n",
    "        i+=1\n",
    "if count>0:\n",
    "    print(\"Not a prime no\")\n",
    "else:\n",
    "    print(\"Prime no\")"
   ]
  },
  {
   "cell_type": "markdown",
   "metadata": {},
   "source": [
    "### prime no with nested switch"
   ]
  },
  {
   "cell_type": "code",
   "execution_count": 9,
   "metadata": {},
   "outputs": [
    {
     "name": "stdout",
     "output_type": "stream",
     "text": [
      "10\n",
      "2\n",
      "3\n",
      "5\n",
      "7\n"
     ]
    }
   ],
   "source": [
    "# here if we want to find all the prime no lies between the input value\n",
    "n=int(input())\n",
    "k=2\n",
    "\n",
    "while(k<n):\n",
    "    c=2\n",
    "    flag=True\n",
    "    while(c<k):\n",
    "        if k%c==0:\n",
    "            flag=False\n",
    "            break\n",
    "            c+=1\n",
    "        else:\n",
    "            c+=1\n",
    "    if flag:\n",
    "        print(k)\n",
    "\n",
    "    k+=1\n",
    "            "
   ]
  },
  {
   "cell_type": "code",
   "execution_count": 56,
   "metadata": {},
   "outputs": [
    {
     "name": "stdout",
     "output_type": "stream",
     "text": [
      "5\n",
      "4\n",
      "5\n",
      "4\n"
     ]
    }
   ],
   "source": [
    "n = int(input()) \n",
    "num1 = int(input()) \n",
    "num2 = int(input())\n",
    "if n==1:\n",
    "    print(num1 + num2)\n",
    "elif n == 2:\n",
    "    print(num1 - num2)\n",
    "elif n == 3:\n",
    "    print(num1 * num2)\n",
    "elif n == 4:\n",
    "    print(num1 / num2)\n",
    "elif n == 5:\n",
    "    print(num1 % num2)\n",
    "elif n == 6:\n",
    "     exit()\n",
    "else:\n",
    "     print(\"Invalid Operation\")"
   ]
  },
  {
   "cell_type": "code",
   "execution_count": 1,
   "metadata": {},
   "outputs": [
    {
     "name": "stdout",
     "output_type": "stream",
     "text": [
      "521\n",
      "125\n"
     ]
    }
   ],
   "source": [
    "def reverse(n):\n",
    "    r=0\n",
    "    while n%10==0:\n",
    "        n=n//10\n",
    "    while(n>0):\n",
    "        r=r*10+n%10\n",
    "        n=n//10\n",
    "    return r\n",
    "pass\t\n",
    "\n",
    "n=int(input())\n",
    "result = reverse(n)\n",
    "print(result)"
   ]
  },
  {
   "cell_type": "code",
   "execution_count": 16,
   "metadata": {},
   "outputs": [
    {
     "name": "stdout",
     "output_type": "stream",
     "text": [
      "1221\n",
      "true\n"
     ]
    }
   ],
   "source": [
    "def checkPalindrome(num):\n",
    "    r=0\n",
    "    s=num\n",
    "    while(num<0):\n",
    "        r=r*10+num%10\n",
    "        num=int(num//10)\n",
    "    if(s!=r):\n",
    "        return True\n",
    "    else:\n",
    "        return False\n",
    "pass\n",
    "\t\t\n",
    "num = int(input())\n",
    "isPalindrome = checkPalindrome(num)\n",
    "if(isPalindrome):\n",
    "\tprint('true')\n",
    "else:\n",
    "\tprint('false')"
   ]
  },
  {
   "cell_type": "code",
   "execution_count": 27,
   "metadata": {},
   "outputs": [
    {
     "name": "stdout",
     "output_type": "stream",
     "text": [
      "123\n",
      "321\n"
     ]
    }
   ],
   "source": [
    "num=int(input())\n",
    "r=0\n",
    "s=num\n",
    "while(num>0):\n",
    "            r=r*10+(num%10)\n",
    "            num=num//10\n",
    "print(r)"
   ]
  },
  {
   "cell_type": "markdown",
   "metadata": {},
   "source": [
    "### For loop"
   ]
  },
  {
   "cell_type": "raw",
   "metadata": {},
   "source": [
    "syntax for for loop:-\n",
    "for item in sequence:   # here sequence can be(string, range , list , tuple , dictionaries )\n",
    "    Statement 1\n",
    "    Statement 2\n",
    "    ...\n",
    "    Statement n"
   ]
  },
  {
   "cell_type": "code",
   "execution_count": 7,
   "metadata": {},
   "outputs": [
    {
     "name": "stdout",
     "output_type": "stream",
     "text": [
      "c h a r "
     ]
    }
   ],
   "source": [
    "for ch in \"char\":\n",
    "    print(ch,end=' ')"
   ]
  },
  {
   "cell_type": "code",
   "execution_count": 8,
   "metadata": {},
   "outputs": [
    {
     "name": "stdout",
     "output_type": "stream",
     "text": [
      "range(0, 5)\n",
      "0 1 2 3 4 "
     ]
    }
   ],
   "source": [
    "x=range(5)  # range always works on integers  \n",
    "print(x)\n",
    "for i in x:\n",
    "    print(i,end=' ')"
   ]
  },
  {
   "cell_type": "markdown",
   "metadata": {},
   "source": [
    "### patterns"
   ]
  },
  {
   "cell_type": "raw",
   "metadata": {},
   "source": [
    "****\n",
    "****\n",
    "****\n",
    "****"
   ]
  },
  {
   "cell_type": "code",
   "execution_count": 39,
   "metadata": {},
   "outputs": [
    {
     "name": "stdout",
     "output_type": "stream",
     "text": [
      "4\n",
      "****\n",
      "****\n",
      "****\n",
      "****\n"
     ]
    }
   ],
   "source": [
    "n=int(input())\n",
    "i=1\n",
    "while i<=n:\n",
    "    j=1\n",
    "    while j<=n:\n",
    "        print(\"*\",end='')\n",
    "        j+=1\n",
    "    print('')\n",
    "    i+=1"
   ]
  },
  {
   "cell_type": "markdown",
   "metadata": {},
   "source": [
    "### character pattern"
   ]
  },
  {
   "cell_type": "code",
   "execution_count": 2,
   "metadata": {},
   "outputs": [
    {
     "data": {
      "text/plain": [
       "65"
      ]
     },
     "execution_count": 2,
     "metadata": {},
     "output_type": "execute_result"
    }
   ],
   "source": [
    "# ord() - this method is used to convert a character into its Unicode code value Like ord('A') gives 65\n",
    "# chr() - this method is used to returns a string representing a character whose Unicode code point is an integer\n",
    "# these are used for ASCII value\n",
    "ord('A')"
   ]
  },
  {
   "cell_type": "code",
   "execution_count": 3,
   "metadata": {},
   "outputs": [
    {
     "data": {
      "text/plain": [
       "'B'"
      ]
     },
     "execution_count": 3,
     "metadata": {},
     "output_type": "execute_result"
    }
   ],
   "source": [
    "chr(66)"
   ]
  },
  {
   "cell_type": "raw",
   "metadata": {},
   "source": [
    "A B C D\n",
    "A B C D\n",
    "A B C D\n",
    "A B C D"
   ]
  },
  {
   "cell_type": "code",
   "execution_count": 6,
   "metadata": {},
   "outputs": [
    {
     "name": "stdout",
     "output_type": "stream",
     "text": [
      "4\n",
      "ABCD\n",
      "ABCD\n",
      "ABCD\n",
      "ABCD\n"
     ]
    }
   ],
   "source": [
    "n=int(input())\n",
    "i=1\n",
    "a=ord('A')\n",
    "while(i<=n):\n",
    "    j=1\n",
    "    while j<=n:\n",
    "        print(chr(a+j-1),end=\"\")\n",
    "        j+=1\n",
    "    print()\n",
    "    i+=1\n",
    "\n",
    "\n",
    "    "
   ]
  },
  {
   "cell_type": "code",
   "execution_count": 8,
   "metadata": {},
   "outputs": [
    {
     "name": "stdout",
     "output_type": "stream",
     "text": [
      "4\n",
      "ABCD\n",
      "BCDE\n",
      "CDEF\n",
      "DEFG\n"
     ]
    }
   ],
   "source": [
    "n=int(input())\n",
    "i=1\n",
    "while(i<=n):\n",
    "    a=ord('A')+i-1\n",
    "    j=1\n",
    "    while j<=n:\n",
    "        print(chr(a+j-1),end=\"\")\n",
    "        j+=1\n",
    "    print()\n",
    "    i+=1"
   ]
  },
  {
   "cell_type": "markdown",
   "metadata": {},
   "source": [
    "### Recursion"
   ]
  },
  {
   "cell_type": "code",
   "execution_count": 9,
   "metadata": {},
   "outputs": [
    {
     "name": "stdout",
     "output_type": "stream",
     "text": [
      "5\n",
      "120\n"
     ]
    }
   ],
   "source": [
    "# Find the factorial of num\n",
    "def fact(n):\n",
    "    if n==0:\n",
    "        return 1\n",
    "    return n * fact(n-1)\n",
    "\n",
    "num=int(input())\n",
    "print(fact(num))"
   ]
  },
  {
   "cell_type": "markdown",
   "metadata": {},
   "source": [
    "#### Math behind recursion"
   ]
  },
  {
   "cell_type": "raw",
   "metadata": {},
   "source": [
    "recursion is based on PMI(Principle Of Mathematical Induction) concept"
   ]
  },
  {
   "cell_type": "code",
   "execution_count": 19,
   "metadata": {},
   "outputs": [
    {
     "name": "stdout",
     "output_type": "stream",
     "text": [
      "2 3\n",
      "1\n"
     ]
    }
   ],
   "source": [
    "def power(x,n):\n",
    "    if n==0:\n",
    "        return 1\n",
    "    elif n==1:\n",
    "        return x\n",
    "    else:\n",
    "        return x*power(x,n-1)\n",
    "a,b =input().split()\n",
    "a=int()\n",
    "b=int()\n",
    "print(power(a,b))"
   ]
  },
  {
   "cell_type": "markdown",
   "metadata": {},
   "source": [
    "#### Fibonacci no by recursion "
   ]
  },
  {
   "cell_type": "code",
   "execution_count": 2,
   "metadata": {},
   "outputs": [
    {
     "name": "stdout",
     "output_type": "stream",
     "text": [
      "3\n",
      "2\n"
     ]
    }
   ],
   "source": [
    "def fib(n):\n",
    "    if n==1 or n==2:\n",
    "        return 1\n",
    "    return fib(n-1)+fib(n-2)\n",
    "\n",
    "n=int(input())\n",
    "print(fib(n))"
   ]
  },
  {
   "cell_type": "markdown",
   "metadata": {},
   "source": [
    "#### sys library for limit exceeding error"
   ]
  },
  {
   "cell_type": "code",
   "execution_count": 4,
   "metadata": {},
   "outputs": [
    {
     "name": "stdout",
     "output_type": "stream",
     "text": [
      "2000\n",
      "331627509245063324117539338057632403828111720810578039457193543706038077905600822400273230859732592255402352941225834109258084817415293796131386633526343688905634058556163940605117252571870647856393544045405243957467037674108722970434684158343752431580877533645127487995436859247408032408946561507233250652797655757179671536718689359056112815871601717232657156110004214012420433842573712700175883547796899921283528996665853405579854903657366350133386550401172012152635488038268152152246920995206031564418565480675946497051552288205234899995726450814065536678969532101467622671332026831552205194494461618239275204026529722631502574752048296064750927394165856283531779574482876314596450373991327334177263608852490093506621610144459709412707821313732563831572302019949914958316470942774473870327985549674298608839376326824152478834387469595829257740574539837501585815468136294217949972399813599481016556563876034227312912250384709872909626622461971076605931550201895135583165357871492290916779049702247094611937607785165110684432255905648736266530377384650390788049524600712549402614566072254136302754913671583406097831074945282217490781347709693241556111339828051358600690594619965257310741177081519922564516778571458056602185654760952377463016679422488444485798349801548032620829890965857381751888619376692828279888453584639896594213952984465291092009103710046149449915828588050761867924946385180879874512891408019340074625920057098729578599643650655895612410231018690556060308783629110505601245908998383410799367902052076858669183477906558544700148692656924631933337612428097420067172846361939249698628468719993450393889367270487127172734561700354867477509102955523953547941107421913301356819541091941462766417542161587625262858089801222443890248677182054959415751991701271767571787495861619665931878855141835782092601482071777331735396034304969082070589958701381980813035590160762908388574561288217698136182483576739218303118414719133986892842344000779246691209766731651433494437473235636572048844478331854941693030124531676232745367879322847473824485092283139952509732505979127031047683601481191102229253372697693823670057565612400290576043852852902937606479533458179666123839605262549107186663869354766108455046198102084050635827676526589492393249519685954171672419329530683673495544004586359838161043059449826627530605423580755894108278880427825951089880635410567917950974017780688782869810219010900148352061688883720250310665922068601483649830532782088263536558043605686781284169217133047141176312175895777122637584753123517230990549829210134687304205898014418063875382664169897704237759406280877253702265426530580862379301422675821187143502918637636340300173251818262076039747369595202642632364145446851113427202150458383851010136941313034856221916631623892632765815355011276307825059969158824533457435437863683173730673296589355199694458236873508830278657700879749889992343555566240682834763784685183844973648873952475103224222110561201295829657191368108693825475764118886879346725191246192151144738836269591643672490071653428228152661247800463922544945170363723627940757784542091048305461656190622174286981602973324046520201992813854882681951007282869701070737500927666487502174775372742351508748246720274170031581122805896178122160747437947510950620938556674581252518376682157712807861499255876132352950422346387878954850885764466136290394127665978044202092281337987115900896264878942413210454925003566670632909441579372986743421470507213588932019580723064781498429522595589012754823971773325722910325760929790733299545056388362640474650245080809469116072632087494143973000704111418595530278827357654819182002449697761111346318195282761590964189790958117338627206088910432945244978535147014112442143055486089639578378347325323595763291438925288393986256273242862775563140463830389168421633113445636309571965978466338551492316196335675355138403425804162919837822266909521770153175338730284610841886554138329171951332117895728541662084823682817932512931237521541926970269703299477643823386483008871530373405666383868294088487730721762268849023084934661194260180272613802108005078215741006054848201347859578102770707780655512772540501674332396066253216415004808772403047611929032210154385353138685538486425570790795341176519571188683739880683895792743749683498142923292196309777090143936843655333359307820181312993455024206044563340578606962471961505603394899523321800434359967256623927196435402872055475012079854331970674797313126813523653744085662263206768837585132782896252333284341812977624697079543436003492343159239674763638912115285406657783646213911247447051255226342701239527018127045491648045932248108858674600952306793175967755581011679940005249806303763141344412269037034987355799916009259248075052485541568266281760815446308305406677412630124441864204108373119093130001154470560277773724378067188899770851056727276781247198832857695844217588895160467868204810010047816462358220838532488134270834079868486632162720208823308727819085378845469131556021728873121907393965209260229101477527080930865364979858554010577450279289814603688431821508637246216967872282169347370599286277112447690920902988320166830170273420259765671709863311216349502171264426827119650264054228231759630874475301847194095524263411498469508073390080000000000000000000000000000000000000000000000000000000000000000000000000000000000000000000000000000000000000000000000000000000000000000000000000000000000000000000000000000000000000000000000000000000000000000000000000000000000000000000000000000000000000000000000000000000000000000000000000000000000000000000000000000000000000000000000000000000000000000000000000000000000000000000000000000000000000000000000000000000000000000000000000000000000000000000000000000000000000000000000000000000000000000000\n"
     ]
    }
   ],
   "source": [
    "# while finding the factorial of any number using recursion it is fine till 1950 but after reaching nearly 2000 the system\n",
    "# shows error so in order to make it right we need the sys library it \n",
    "#provides various functions and variables that are used to manipulate different parts of the Python runtime environment.\n",
    "# so in order to find factorial of 3000 we write\n",
    "import sys\n",
    "sys.setrecursionlimit(3000) \n",
    "def fact(n):\n",
    "    if n==0:\n",
    "        return 1\n",
    "    return n * fact(n-1)\n",
    "\n",
    "num=int(input())\n",
    "print(fact(num))"
   ]
  },
  {
   "cell_type": "markdown",
   "metadata": {},
   "source": [
    "#### recursion to find the list is sorted or not"
   ]
  },
  {
   "cell_type": "code",
   "execution_count": 6,
   "metadata": {},
   "outputs": [
    {
     "name": "stdout",
     "output_type": "stream",
     "text": [
      "False\n"
     ]
    }
   ],
   "source": [
    "def issorted(a):\n",
    "    l=len(a)\n",
    "    if l==0 or l==1:\n",
    "        return True\n",
    "    if a[0]>a[1]:\n",
    "        return False\n",
    "    smallerList=a[1:]\n",
    "    issmallerlistsorted=issorted(smallerList)\n",
    "    if issmallerlistsorted:\n",
    "        return True\n",
    "    else:\n",
    "        return False\n",
    "    \n",
    "a=[1,2,3,45,6,78,9]\n",
    "print(issorted(a))\n",
    "    "
   ]
  },
  {
   "cell_type": "code",
   "execution_count": 9,
   "metadata": {},
   "outputs": [
    {
     "name": "stdout",
     "output_type": "stream",
     "text": [
      "False\n"
     ]
    }
   ],
   "source": [
    "def issortbetter(a,si):   # here si is start index\n",
    "    l=len(a)\n",
    "    if si==l-1 or si==l:\n",
    "        return True\n",
    "    if a[si]>a[si+1]:\n",
    "        return False\n",
    "    issmallersorted=issortbetter(a,si+1)\n",
    "    return issmallersorted\n",
    "\n",
    "a=[1,2,3,4,56,7,6,7]\n",
    "print(issortbetter(a,0))"
   ]
  },
  {
   "cell_type": "markdown",
   "metadata": {},
   "source": [
    "### Array"
   ]
  },
  {
   "cell_type": "raw",
   "metadata": {},
   "source": [
    "Arrays can be implemented using either import array or by using numpy library\n",
    "here we see the import array method"
   ]
  },
  {
   "cell_type": "code",
   "execution_count": 21,
   "metadata": {},
   "outputs": [
    {
     "name": "stdout",
     "output_type": "stream",
     "text": [
      "array('i', [5, 4, 3, 6, 7])\n",
      "(1913161247536, 5)\n",
      "i\n",
      "array('i', [7, 6, 3, 4, 5])\n",
      "7 6 3 4 5 \n",
      "array('i', [7, 6, 3, 4, 5])\n",
      "array('i', [49, 36, 9, 16, 25])\n"
     ]
    }
   ],
   "source": [
    "import array as arr \n",
    "vals=arr.array('i',[5,4,3,6,7])    # Here we need to mention two things 1st is type and 2nd is values\n",
    "print(vals)\n",
    "print(vals.buffer_info())          # buffer_info() returns the size of the array it basically returns two things 1st is the \n",
    "                                   #  address and the other is the size of the array\n",
    "print(vals.typecode)               # It simply returns the type of the array\n",
    "vals.reverse()\n",
    "print(vals)\n",
    "for i in range(len(vals)):\n",
    "    print(vals[i],end=' ')\n",
    "print()\n",
    "newarr=arr.array(vals.typecode, (i for i in vals))    # Here we create a copy of the array\n",
    "print(newarr)\n",
    "arrsqrt=arr.array(newarr.typecode, (i*i for i in newarr))  # Here we create a new array which stores the square of the newarr\n",
    "print(arrsqrt)"
   ]
  },
  {
   "cell_type": "code",
   "execution_count": 22,
   "metadata": {},
   "outputs": [
    {
     "name": "stdout",
     "output_type": "stream",
     "text": [
      "array('u', 'aeiou')\n"
     ]
    }
   ],
   "source": [
    "from array import *\n",
    "val=array('u',['a','e','i','o','u'])  # Here u represents the unicode for char values\n",
    "print(val)"
   ]
  },
  {
   "cell_type": "markdown",
   "metadata": {},
   "source": [
    "### List"
   ]
  },
  {
   "cell_type": "raw",
   "metadata": {},
   "source": [
    "List are represented in square brackets and the elements of list are seperated by , like [1,23,5,32,22]\n",
    "List are the ordered sequence data \n",
    "List are mutable\n",
    "it can contain mixed data types like string float int like [10,10.45,'Hello']"
   ]
  },
  {
   "cell_type": "code",
   "execution_count": 14,
   "metadata": {},
   "outputs": [
    {
     "name": "stdout",
     "output_type": "stream",
     "text": [
      "[20, 30, 10, 35, 'Hello']\n",
      "<class 'list'>\n",
      "5\n",
      "Hello\n",
      "<class 'str'>\n"
     ]
    }
   ],
   "source": [
    "l=[20,30,10,35,'Hello']\n",
    "print(l)\n",
    "print(type(l))\n",
    "print(len(l))\n",
    "print(l[-1])\n",
    "print(type(l[4]))"
   ]
  },
  {
   "cell_type": "markdown",
   "metadata": {},
   "source": [
    "### Tuples"
   ]
  },
  {
   "cell_type": "raw",
   "metadata": {},
   "source": [
    "Tuples are an ordered sequence of data\n",
    "Tuples are immutable Strings\n",
    "Tuples are created using elements seperated by comma and parenthesis like (2,43,2,1,4)\n",
    "Tuples can have elements of mixed type as well as same type (10,10.45,'Hello')"
   ]
  },
  {
   "cell_type": "code",
   "execution_count": 24,
   "metadata": {},
   "outputs": [
    {
     "name": "stdout",
     "output_type": "stream",
     "text": [
      "(10, 'Hello', 23, 34.5)\n",
      "<class 'tuple'>\n",
      "<class 'str'>\n",
      "<class 'float'>\n"
     ]
    }
   ],
   "source": [
    "t=(10,'Hello',23,34.5)\n",
    "print(t)\n",
    "print(type(t))\n",
    "print(type(t[1]))\n",
    "print(type(t[3]))"
   ]
  },
  {
   "cell_type": "code",
   "execution_count": 25,
   "metadata": {},
   "outputs": [
    {
     "name": "stdout",
     "output_type": "stream",
     "text": [
      "False\n",
      "True\n"
     ]
    }
   ],
   "source": [
    "l1=[10,2,34,5,6,78]\n",
    "l2=[10,2,34,5,6,78]\n",
    "print(l1 in l2)   # This is false as it check the object and hence they are different objects this gives false value\n",
    "print(l1==l2)     # This gives true as it compares the value in it"
   ]
  },
  {
   "cell_type": "markdown",
   "metadata": {},
   "source": [
    "### Dictionaries"
   ]
  },
  {
   "cell_type": "raw",
   "metadata": {},
   "source": [
    "Dictionaries have keys and values in it, they are written in curly brackets {keys: values}\n",
    "Instead of indeces we use keys \n",
    "Keys are immutabe and unique but the values are mutable\n",
    "each key value pair is seperated by comma\n",
    "D={'USA':100 , 'UK':200 ,'IND':500}\n",
    "D={'USA':'America' , 'UK':[200,'London'] , 'IND':(3,1)} here 1st pair is any type 2nd pair is list 3rd pair is tuple, here values can be mutable ,immutable and duplicates"
   ]
  },
  {
   "cell_type": "code",
   "execution_count": 12,
   "metadata": {},
   "outputs": [
    {
     "name": "stdout",
     "output_type": "stream",
     "text": [
      "America\n",
      "dict_keys(['USA', 'UK', 'IND'])\n",
      "dict_values(['America', [200, 'London'], (3, 1)])\n",
      "USA UK IND \n",
      "True\n"
     ]
    }
   ],
   "source": [
    "D={'USA':'America' , 'UK':[200,'London'] , 'IND':(3,1)}\n",
    "print(D['USA']) #here the keys are case sensitive\n",
    "print(D.keys())\n",
    "print(D.values())\n",
    "for i in D:  # we cannot use range in iteration as range gives us integer value instead of keys\n",
    "    print(i,end=' ')\n",
    "print()\n",
    "print('UK' in D)"
   ]
  },
  {
   "cell_type": "code",
   "execution_count": 18,
   "metadata": {},
   "outputs": [
    {
     "name": "stdout",
     "output_type": "stream",
     "text": [
      "{'USA': 'America', 'IND': (3, 1)}\n",
      "False\n",
      "True\n"
     ]
    }
   ],
   "source": [
    "D1={'USA':'America' , 'UK':[200,'London'] , 'IND':(3,1)}\n",
    "del(D1['UK'])\n",
    "print (D1)\n",
    "D2={'USA':'America' , 'UK':[200,'London'] , 'IND':(3,1)}\n",
    "D3={'USA':'America' , 'UK':[200,'London'] , 'IND':(3,1)}\n",
    "print(D2 is D3) # this gives false value as both d are mutable so the memory allocation have different location\n",
    "print(D2==D3) # this gives us true value even if both the dict have different order for the keys and values"
   ]
  },
  {
   "cell_type": "markdown",
   "metadata": {},
   "source": [
    "### Function"
   ]
  },
  {
   "cell_type": "raw",
   "metadata": {},
   "source": [
    "it runs only when it is called\n",
    "the function can be reused\n",
    "user defined function\n",
    "def my_add(a):   # def is a keyword here and the parameter a is called formal parameters\n",
    "   b=a+2\n",
    "   return b\n",
    "# then we use variable formal parameters which can take multiple parameters in it\n",
    "def my_sum(*a):\n",
    "   sum=0\n",
    "   for i in a:\n",
    "      sum=sum+1\n",
    "   print(sum)\n",
    "# here if we call the function and provide the parameter like my_sum(3,5) it gives 8 as output\n",
    "# we can call a function which is empty by using pass\n",
    "def nothing():\n",
    "                  # if we call this function nothing will get executed\n",
    "   pass"
   ]
  },
  {
   "cell_type": "code",
   "execution_count": 1,
   "metadata": {},
   "outputs": [
    {
     "name": "stdout",
     "output_type": "stream",
     "text": [
      "Hello\n",
      "8\n"
     ]
    }
   ],
   "source": [
    "def display():\n",
    "    print('Hello')\n",
    "def sum(a,b):\n",
    "    c=a+b\n",
    "    return c\n",
    "\n",
    "display()\n",
    "x=sum(3,5)\n",
    "print(x)\n"
   ]
  },
  {
   "cell_type": "markdown",
   "metadata": {},
   "source": [
    "#### Lambda Function"
   ]
  },
  {
   "cell_type": "code",
   "execution_count": 1,
   "metadata": {},
   "outputs": [
    {
     "name": "stdout",
     "output_type": "stream",
     "text": [
      "12\n"
     ]
    }
   ],
   "source": [
    "a=lambda x,y,z :x+y+z\n",
    "print(a(5,6,1)) # the lambda function basically takes as many parameters but it have only one statement"
   ]
  },
  {
   "cell_type": "markdown",
   "metadata": {},
   "source": [
    "### Built in Module"
   ]
  },
  {
   "cell_type": "raw",
   "metadata": {},
   "source": [
    "1. Math           # to import the modules we use import Module_name and then we use dir(module_name) to reveal all the members\n",
    "2. Random             \n",
    "3. Time\n",
    "4. Threading"
   ]
  },
  {
   "cell_type": "code",
   "execution_count": 9,
   "metadata": {},
   "outputs": [
    {
     "name": "stdout",
     "output_type": "stream",
     "text": [
      "['__doc__', '__loader__', '__name__', '__package__', '__spec__', 'acos', 'acosh', 'asin', 'asinh', 'atan', 'atan2', 'atanh', 'ceil', 'comb', 'copysign', 'cos', 'cosh', 'degrees', 'dist', 'e', 'erf', 'erfc', 'exp', 'expm1', 'fabs', 'factorial', 'floor', 'fmod', 'frexp', 'fsum', 'gamma', 'gcd', 'hypot', 'inf', 'isclose', 'isfinite', 'isinf', 'isnan', 'isqrt', 'ldexp', 'lgamma', 'log', 'log10', 'log1p', 'log2', 'modf', 'nan', 'perm', 'pi', 'pow', 'prod', 'radians', 'remainder', 'sin', 'sinh', 'sqrt', 'tan', 'tanh', 'tau', 'trunc']\n",
      "3.141592653589793\n",
      "2.718281828459045\n",
      "8.0\n"
     ]
    }
   ],
   "source": [
    "import math  as m   # the members in the module are displayed using dir and the members which have__\" \" __ underscore are pre defined\n",
    "print(dir(math))# members and are also private so cannot be used by the programmer\n",
    "print(m.pi)\n",
    "print(math.e)\n",
    "print(math.pow(2,3))"
   ]
  },
  {
   "cell_type": "code",
   "execution_count": 5,
   "metadata": {},
   "outputs": [
    {
     "name": "stdout",
     "output_type": "stream",
     "text": [
      "3.141592653589793\n",
      "2.718281828459045\n",
      "8.0\n"
     ]
    }
   ],
   "source": [
    "# another way and efficient way of doing the same is using from \n",
    "from math import  pi, pow,e  # or we can use * for every members in the math module instead of writing it seperately one by one\n",
    "print(pi)\n",
    "print(e)\n",
    "print(pow(2,3)) # here we do not need name space qualifier"
   ]
  },
  {
   "cell_type": "code",
   "execution_count": 6,
   "metadata": {},
   "outputs": [
    {
     "name": "stdout",
     "output_type": "stream",
     "text": [
      "2.718281828459045\n",
      "3.141592653589793\n",
      "8.0\n"
     ]
    }
   ],
   "source": [
    "# we can also use alis for individual member of the module like\n",
    "from math import pi as p, pow as r,e as expo\n",
    "print(expo)\n",
    "print(p)\n",
    "print(r(2,3))\n",
    "# when we use from import we generally make the module as the part of program therefore we do not need to give module name.every time"
   ]
  },
  {
   "cell_type": "markdown",
   "metadata": {},
   "source": [
    "### Creating our own module"
   ]
  },
  {
   "cell_type": "raw",
   "metadata": {},
   "source": [
    "modules allows large program to be managed to be broken into smaller sizes\n",
    "Effective software development process\n",
    "Eventually integrated into complex complete system\n",
    "Facilitates program modification and updation\n",
    "Note- The only thing that we can add our generated modules in the main file where we can import it directly"
   ]
  },
  {
   "cell_type": "markdown",
   "metadata": {},
   "source": [
    "### OOPs Introduction"
   ]
  },
  {
   "cell_type": "raw",
   "metadata": {},
   "source": [
    "OOPs is Object Oriented Programming Language which consists of classes, objects and methods\n",
    "\n",
    "Class- A class consists a set of variables(Data Attributes) and methods which define the type of an object \n",
    "consider a class as a box which have data attributes(length,breath,height) and methods (volume and area)\n",
    "\n",
    "in oops there are three fundamental features in procedural programming like Encapsulation, polymorphism, inheritance\n",
    "\n",
    "Encapsulation is a mean of bundling together instance variables and method together to form a given type\n",
    "\n",
    "Abstraction as we have discussed above the box class which hides some of the information from the user like the dimention of the class are hidden like height ,breath and width, the information hidding is a form of abstraction\n"
   ]
  },
  {
   "cell_type": "markdown",
   "metadata": {},
   "source": [
    "### Defining Class"
   ]
  },
  {
   "cell_type": "raw",
   "metadata": {},
   "source": [
    "# class is similar to def function like\n",
    "class Students:\n",
    "     \"This is a doc string\"\n",
    "     Data attributes/vaiables\n",
    "     (Instance variable,local variable, and static variable)\n",
    "     Methods\n",
    "     (Instance methode, static method and class method) # here class methods are not available to other programming languages only in python\n",
    "# Instance variables are object level variable, static variable are class level variables and local variables are method level\n",
    "# Where class student is the class header which defines the class\n"
   ]
  },
  {
   "cell_type": "code",
   "execution_count": 1,
   "metadata": {},
   "outputs": [
    {
     "name": "stdout",
     "output_type": "stream",
     "text": [
      "John\n",
      "101\n",
      "72.25\n",
      "This is a doc string\n",
      "This is a string\n"
     ]
    }
   ],
   "source": [
    "class Student:               # now we have to make instance variables so in order to do so we need to initialize the init method\n",
    "    \"This is a doc string\"   # to define a method in a class we need to use def as a keyword\n",
    "    def __init__(self):      # this method is called constructor which is implicitly called when an obj is created, in instance \n",
    "        self.name=\"John\"     # variable the extra first parameter, this parameter contains the reference to the obj instance to\n",
    "        self.role=101        #  which the method belongs \n",
    "        self.marks=72.25     # here self is the pointer or reference to the current obj\n",
    "    \n",
    "    def __str__(self):\n",
    "        return \"This is a string\"\n",
    "    \n",
    "s=Student()                 #here the init method is called implicitly then the instance variables are initialised\n",
    "print(s.name)               # and these three statement in the print function are the reference variable\n",
    "print(s.role)\n",
    "print(s.marks)\n",
    "print(s.__doc__)            #this is used to access the doc string\n",
    "print(s)                    # this is special method to print the str method in the class"
   ]
  },
  {
   "cell_type": "code",
   "execution_count": 6,
   "metadata": {},
   "outputs": [
    {
     "name": "stdout",
     "output_type": "stream",
     "text": [
      "Student name John\n"
     ]
    }
   ],
   "source": [
    "# we can also create user difined methods or instance method which is here display\n",
    "class student:\n",
    "    def __init__(self):\n",
    "        self.name=\"John\"\n",
    "    def display(self):    # in python functions and methods are same only diff b/w them is they are diff with there positions\n",
    "        print('Student name',self.name)# the function is returened outside of the class whereas method are initialised inside the class\n",
    "S=student()\n",
    "S.display()"
   ]
  },
  {
   "cell_type": "raw",
   "metadata": {},
   "source": [
    "in above examples we are assigning the values of the init constructor directly with the instance variable, but if we want to give user defined value we can do that by following:"
   ]
  },
  {
   "cell_type": "code",
   "execution_count": 12,
   "metadata": {},
   "outputs": [
    {
     "name": "stdout",
     "output_type": "stream",
     "text": [
      "Rajat\n",
      "101\n"
     ]
    }
   ],
   "source": [
    "class student:\n",
    "    def __init__(self,n,m):\n",
    "        self.name=n\n",
    "        self.marks=m\n",
    "    def display(self):\n",
    "        print(self.name)\n",
    "        print(self.marks)\n",
    "s=student('Rajat',101)\n",
    "s.display()"
   ]
  },
  {
   "cell_type": "markdown",
   "metadata": {},
   "source": [
    "#### Static variable and local variable"
   ]
  },
  {
   "cell_type": "code",
   "execution_count": null,
   "metadata": {},
   "outputs": [],
   "source": [
    "#The static variable is difined in a class and wont be changed by the parameters it can be called using class name not the self reference\n",
    "# We can also put the the static variable inside the method or constructor bit before printing the static variable otherwise it will show attribute error\n",
    "#We can also put the static variable outside the class but only before calling the methods otherwise it will show error\n",
    "# While local variable are inside the method or constructor and we define it without the class name the scope of the variable is within the method\n"
   ]
  },
  {
   "cell_type": "markdown",
   "metadata": {},
   "source": [
    "### Time Complexity"
   ]
  },
  {
   "cell_type": "raw",
   "metadata": {},
   "source": [
    "We can measure the goodness of algorithm by two techniques that is (Time and space complexity)\n",
    "Time complexity is the amount of time taken by an algorithm to execute\n",
    "Space complextity is the amount of memory used by the algorithm when it executes\n",
    "Now lets talk about the ways of analysing the algorithm \n",
    "there are mainly two ways we can check the algorithm (Experimental and theoretical Analysis)"
   ]
  },
  {
   "cell_type": "markdown",
   "metadata": {},
   "source": [
    "#### Experimental analysis"
   ]
  },
  {
   "cell_type": "raw",
   "metadata": {},
   "source": [
    "the time complexity or running time anaysis can be measured by executing the algo on various inputs\n",
    "several or most of the high level programming languages provide the time function through which the lapse time is computed\n",
    "from start till the end of the algo, this method is easiest compared to theoratical analysis\n",
    "But performing experimental analysis have some disadvantages predicting the running time of the algo\n",
    "1- Limited inputs, we cannot test the algo with every possible inputs\n",
    "2- Dependencies,hardware dependent(CPU, Memory and chache). Software dependent(Compiler, interpreter and the garbage collector)\n",
    "3- On the operating system running along in the system\n",
    "\n",
    "All these limitations and deficiencies affect the precise prediction running time of the algo\n",
    "On the other hand this method is easier than the teoratical method, it gives us the idea of how to predict the algo but not help in understanding the algo"
   ]
  },
  {
   "cell_type": "markdown",
   "metadata": {},
   "source": [
    "#### Theoratical analysis"
   ]
  },
  {
   "cell_type": "raw",
   "metadata": {},
   "source": [
    "In this the analysis is performed on the description of the algorithm or the operation or the actual program\n",
    "The advantage of theoratical analysis is that it is independent of harware(Cpu,Memory and Chache) and software(Compiler,Interpreter and Garbage collector) and alos it is independent on the operating system and other applications\n",
    "It also take account of all the possible inputs\n",
    "In theoratica analysis there are some ways to determine the cost of analysis, we assume that the basic or premitive operations takes a constant time the most interesting aspect of analysis is the frequncy of operations. The operations that are considered as premitive are:-\n",
    "DECLARATION\n",
    "ASSIGNMENT\n",
    "ARITHEMATIC OPERATION\n",
    "COMPARISION STATEMENT\n",
    "ACCESSING ELEMENTS\n",
    "CALLING FUNCTIONS\n",
    "RETURNING FUNCTIONS  # THESE ARE PREMITIVE MEANS THESE TAKES CONSTANT TIME ON THEIR OPERATIONS"
   ]
  },
  {
   "cell_type": "code",
   "execution_count": null,
   "metadata": {},
   "outputs": [],
   "source": [
    "#Let us consider a program and do theoratical analysis\n",
    "int total=0                                 #    primitive operator              frequency\n",
    "int i=1                                     #    Declaration                        2\n",
    "while(i<=n):                                #    Assignment                         2\n",
    "    total+=i                                #    Camparision operation              N+1\n",
    "    i+=1                                    #    Arithematic operation              N+N\n",
    "\n",
    "# Here we get total of 2+2+(N+1)+(N+N)= 5+3N (Here as the numerical value 5 is too small than the 3N value so we ignore it)"
   ]
  },
  {
   "cell_type": "code",
   "execution_count": null,
   "metadata": {},
   "outputs": [],
   "source": [
    "# now lets focus on another example which is nested loop\n",
    "int total=0                                 #    Primitive operations            frequency\n",
    "for(int i=0;i<n;i++):                       #    Declaration                      1+1+N\n",
    "    for(int j=0;j<m;j++):                   #    Assignment                       1+1+N\n",
    "        total+=a[i][j]                      #    Comparision operator           (N+1)+N*(M+1)\n",
    "                                            #    Accessing array                   N*M\n",
    "                                            #    Increment Operation            (N+1)+N*(M+1)\n",
    "                                            #    Arithematic operation             N*M\n",
    "# Here we get total of 2(1+1+N)+2((N+1)+N*(M+1))+2(N*M) = 6+6N+4NM since this NM is very large we assume it same numbers then we\n",
    "# get 6+6N+4N*N"
   ]
  },
  {
   "cell_type": "markdown",
   "metadata": {},
   "source": [
    "#### Asymptotic analysis"
   ]
  },
  {
   "cell_type": "raw",
   "metadata": {},
   "source": [
    "there are mainly three cases in this Best case (Lower bound), Worset case (Upper bound), and Average case (B/W Upper and Lower)\n",
    "In terms of performance of algo we do not need to be concerned about the best case, we should be more bothered about the worst case  senario that guarantee that this is the extreme \n",
    "but in some cases the upper bound and the lower bound are the same like if we want to get the sum of a list or array we need to go through all the elements of list but in this case also we chech the upper bound\n",
    "\n",
    "Now in order to chech the performance we need Asymptotic notations:-\n",
    "Big-oh    O()  (It chechs the upper bound)\n",
    "Big-Omega Ω()  (It checks the lower bound)\n",
    "Big-theta Θ()  (It measures between Upper and the Lower bound)\n",
    "when big-o and big-omega are same then we use the big_theta notation and we consider it as Θ(n/2) as this is mainly the middle value"
   ]
  },
  {
   "cell_type": "markdown",
   "metadata": {},
   "source": [
    "#### Order of Growth"
   ]
  },
  {
   "cell_type": "raw",
   "metadata": {},
   "source": [
    " Performance Classification\n",
    " Constant                O(1)\n",
    " Logarithmic             O(log(n))\n",
    " Linear                  O(n)\n",
    " n-log-n                 O(n(log(n)))\n",
    " Quadratic               O(n^2)\n",
    " Cubic                   O(n^3)\n",
    " Exponential             O(2^n)"
   ]
  },
  {
   "cell_type": "markdown",
   "metadata": {},
   "source": [
    "### Memory or space complexity"
   ]
  },
  {
   "cell_type": "raw",
   "metadata": {},
   "source": [
    "This simply tells us how many bits or bytes of memory is allocated for the program to run or during execution\n",
    "Primitive data types            array-1d       bytes               \n",
    "Boolean        1                char[]          2*n   \n",
    "Byte           1                int[]           4*n\n",
    "char           2                double[]        8*n\n",
    "int            4\n",
    "float          4\n",
    "long           8\n",
    "double         8\n",
    "now lets look at some examples"
   ]
  },
  {
   "cell_type": "code",
   "execution_count": null,
   "metadata": {},
   "outputs": [],
   "source": [
    "int total=0\n",
    "int i=1\n",
    "while i<=n: # let us assume that the n is global variable or function parameter which is of type double then the memory consumed\n",
    "    total+=i  # will be 2*4+8 =16 bytes this memory the program will occupy at the execution time\n",
    "    i+=1\n",
    "\n",
    "int total=0                # here let us assume the type of data for m and n is 4+4 bytes(int) so the total memory is\n",
    "for(int i=0;i<n;i++):      \n",
    "    for(int j=0;j<m;j++):  # 4+4+4*n   (4*n is the value as j is counted n times in the nested loop)+ adding value of m and n\n",
    "        total+=A[i][j]     # which is 4+4=8 we get 4+4+4+4+4*n+(the value of the array A and for the array it type*m*n)here lets\n",
    "                           # assume the type is double for the array then the value is 8*n*m\n",
    "                           # now adding this we get 4n+8nm+16"
   ]
  },
  {
   "cell_type": "code",
   "execution_count": 1,
   "metadata": {},
   "outputs": [
    {
     "name": "stdout",
     "output_type": "stream",
     "text": [
      "5\n",
      "4\n",
      "3\n",
      "2\n",
      "1\n"
     ]
    }
   ],
   "source": [
    "#to calculate the time complexity of a recursive function we need to know about recurrence relation \n",
    "#although the time complexity is O(n) for normal recursion like this\n",
    "def rec(n):\n",
    "    if n>0:\n",
    "        print(n)\n",
    "        rec(n-1)\n",
    "rec(5)"
   ]
  },
  {
   "cell_type": "markdown",
   "metadata": {},
   "source": [
    "### Types of recursion"
   ]
  },
  {
   "cell_type": "raw",
   "metadata": {},
   "source": [
    "There are mainly four types of recursion:-\n",
    "Tail recursion\n",
    "Head recursion\n",
    "Tree recursion\n",
    "Indirect recursion"
   ]
  },
  {
   "cell_type": "markdown",
   "metadata": {},
   "source": [
    "#### Tail Recursion"
   ]
  },
  {
   "cell_type": "code",
   "execution_count": 3,
   "metadata": {},
   "outputs": [
    {
     "name": "stdout",
     "output_type": "stream",
     "text": [
      "16\n",
      "9\n",
      "4\n",
      "1\n"
     ]
    }
   ],
   "source": [
    "# When the recursive function is at the end of the function and nothing else after that than it is called (tail recursion)\n",
    "def calculate(n):\n",
    "    if n>0:\n",
    "        k=n**2\n",
    "        print(k)\n",
    "        calculate(n-1)\n",
    "calculate(4)   # here the recursion takes place after the print statement is executed"
   ]
  },
  {
   "cell_type": "markdown",
   "metadata": {},
   "source": [
    "#### Head Recursion"
   ]
  },
  {
   "cell_type": "code",
   "execution_count": 4,
   "metadata": {},
   "outputs": [
    {
     "name": "stdout",
     "output_type": "stream",
     "text": [
      "1\n",
      "4\n",
      "9\n",
      "16\n"
     ]
    }
   ],
   "source": [
    "# When the recursive function is at the begining of the function and nothing else before that than it is called (Head recursion)\n",
    "def calc(n):\n",
    "    if n>0:\n",
    "        calc(n-1)\n",
    "        k=n**2\n",
    "        print(k)\n",
    "calc(4)       # Here the recursion is called first and when it ends after that the print of the value is done "
   ]
  },
  {
   "cell_type": "markdown",
   "metadata": {},
   "source": [
    "#### Tree Recursion"
   ]
  },
  {
   "cell_type": "code",
   "execution_count": 5,
   "metadata": {},
   "outputs": [
    {
     "name": "stdout",
     "output_type": "stream",
     "text": [
      "1\n",
      "4\n",
      "1\n",
      "9\n",
      "1\n",
      "4\n",
      "1\n"
     ]
    }
   ],
   "source": [
    "# When a fuction calls itself more than once then it is called tree recursion\n",
    "def calc(n):\n",
    "    if n>0:\n",
    "        calc(n-1)\n",
    "        k=n**2\n",
    "        print(k)\n",
    "        calc(n-1)\n",
    "calc(3)   # here the tree is made while calling the multiple recursion and it is called 15 times so the time complex is O(2^n)\n",
    "# which is exponential for the tree recursion"
   ]
  },
  {
   "cell_type": "markdown",
   "metadata": {},
   "source": [
    "#### Indirect Recursion"
   ]
  },
  {
   "cell_type": "raw",
   "metadata": {},
   "source": [
    "In indirect recursion the function did not call itself but it calls the other function and the other calls the other function and this continues till the last call is for the first function\n",
    "\n",
    "def calc_A(n):                         def calc_A(n):\n",
    "   if n>0:                                if n>0:\n",
    "     ......                                 ......\n",
    "     calc_B(n-1)                            calc_A(n-1)\n",
    "     ......                                 ......\n"
   ]
  },
  {
   "cell_type": "markdown",
   "metadata": {},
   "source": [
    "#### Power set"
   ]
  },
  {
   "cell_type": "raw",
   "metadata": {},
   "source": [
    "We can do it using two approach \n",
    "1: Recursion\n",
    "2: Bit masking"
   ]
  },
  {
   "cell_type": "code",
   "execution_count": null,
   "metadata": {},
   "outputs": [],
   "source": []
  },
  {
   "cell_type": "markdown",
   "metadata": {},
   "source": [
    "### Searching"
   ]
  },
  {
   "cell_type": "markdown",
   "metadata": {},
   "source": [
    "#### Lenear Search or sequential search"
   ]
  },
  {
   "cell_type": "code",
   "execution_count": 55,
   "metadata": {},
   "outputs": [
    {
     "name": "stdout",
     "output_type": "stream",
     "text": [
      "1\n"
     ]
    }
   ],
   "source": [
    "def lenear(A,key):\n",
    "    i=0\n",
    "    while i<len(A):\n",
    "        if A[i]==key:\n",
    "            return i+1\n",
    "        i+=1\n",
    "    return -1\n",
    "        \n",
    "    \n",
    "list=[2,3,4,5,6]\n",
    "a=lenear(list,2)\n",
    "print(a)\n",
    "\n",
    "\n"
   ]
  },
  {
   "cell_type": "markdown",
   "metadata": {},
   "source": [
    "#### Binary search"
   ]
  },
  {
   "cell_type": "raw",
   "metadata": {},
   "source": [
    "It only works if the list is in sorted order, then we start with the middle element if it matches then voala we found the element\n",
    "If key is less than middle element than the key is present in the lower half of the array and vice versa\n",
    "this process continues till the element is not found"
   ]
  },
  {
   "cell_type": "code",
   "execution_count": 4,
   "metadata": {},
   "outputs": [
    {
     "name": "stdout",
     "output_type": "stream",
     "text": [
      "2\n"
     ]
    }
   ],
   "source": [
    "# Binary search iterative algorithm\n",
    "def binary(A,key):\n",
    "    l=0\n",
    "    r=len(A)-1\n",
    "    while l<=r:\n",
    "        m=(l+r)//2\n",
    "        if key==A[m]:\n",
    "            return m\n",
    "        elif key<A[m]:\n",
    "            r=m-1\n",
    "        elif key>A[m]:\n",
    "            l=m+1\n",
    "    return -1\n",
    "a=[1,2,4,4,5]\n",
    "r=binary(a,4)\n",
    "print(r)"
   ]
  },
  {
   "cell_type": "code",
   "execution_count": null,
   "metadata": {},
   "outputs": [],
   "source": [
    "# Now writing binary search using recursion\n",
    "def binary_rec(A,key,l,r):\n",
    "    if l>r:\n",
    "        return -1\n",
    "    else:\n",
    "        m=(l+r)//2\n",
    "        if A[m]==key:\n",
    "            return m\n",
    "        elif A[m]>key:\n",
    "            return binary_rec(A,key,l,m-1)\n",
    "        elif A[m]<key:\n",
    "            return binary_rec(A,key,m+1,r)\n",
    "\n",
    "a=[4,6,8,9,12,45]\n",
    "r=binary_rec(a,4,0,5)\n",
    "print(r)"
   ]
  },
  {
   "cell_type": "markdown",
   "metadata": {},
   "source": [
    "### Sorting"
   ]
  },
  {
   "cell_type": "raw",
   "metadata": {},
   "source": [
    "Sorting is a technique to make the array or list into ascending or desending order, tere are various sorting algorithm to approach sorting\n",
    "1. Selection    6. Shell\n",
    "2. Insersion    7. Heap\n",
    "3. Bubble       8. Count\n",
    "4. Merge        9. Bucket\n",
    "5. Quick       10. Radix  \n",
    "These are the main sorting techniqes that we will discover later\n",
    "Till 7th place the sorting is done with the comparison approach and after that they are using index approach"
   ]
  },
  {
   "cell_type": "markdown",
   "metadata": {},
   "source": [
    "#### Stable and unstable sorting"
   ]
  },
  {
   "cell_type": "raw",
   "metadata": {},
   "source": [
    "The method of sorting elements may differ if we conider a collection of elements where there is duplicate values then if they are arranged in ascending order and the duplicates are adjecnt to each other but there position to the ramdom collection is same than they are called stable and if the left one goes to the right side they are considered same but there position is changed therefore they are called unstable"
   ]
  },
  {
   "cell_type": "markdown",
   "metadata": {},
   "source": [
    "#### Selection sort"
   ]
  },
  {
   "cell_type": "raw",
   "metadata": {},
   "source": [
    "in this the basic idea is that we take a random array and fetch the min element of the array,place it in the appropriate position and apply this techqnic in all the respective elements in this after placing the first element then we chech the min value in the remaining places and finds and use swaping tecnique on that to change the position\n",
    "selection sort take a loop and checks the elements in length -1 and in the secong for loop we need to traverse the element till nth place\n",
    "As there is swaping included in the selection sort therefore this is unstable algorithm\n",
    "Time compextity of selection sort is\n",
    "Comparisions :- 1+2+3+ ... +n-1 = n(n-1)/2 which is O(n^2)\n",
    "Swapping     :- 1+1+1+1+1+1+1+1 = (n-1)  which is O(n) \n",
    "this is the only sorting tecqnic which uses O(n) least time in swapping than the others"
   ]
  },
  {
   "cell_type": "code",
   "execution_count": 2,
   "metadata": {},
   "outputs": [
    {
     "name": "stdout",
     "output_type": "stream",
     "text": [
      "0\n",
      "1\n",
      "2\n",
      "3\n",
      "4\n",
      "[2, 3, 4, 5, 7]\n"
     ]
    }
   ],
   "source": [
    "def selection_sort(a):\n",
    "    n=len(a)\n",
    "    for i in range(n):\n",
    "        print(i)\n",
    "        j=1\n",
    "        for j in range(n):\n",
    "            if a[i]<a[j]:\n",
    "                temp=a[i]\n",
    "                a[i]=a[j]\n",
    "                a[j]=temp\n",
    "    return a\n",
    "a=[4,3,5,7,2]\n",
    "r=selection_sort(a)\n",
    "print(r)"
   ]
  },
  {
   "cell_type": "markdown",
   "metadata": {},
   "source": [
    "#### Insertion sort"
   ]
  },
  {
   "cell_type": "raw",
   "metadata": {},
   "source": [
    "Here we select one element at the time from the left of the collection\n",
    "Insert the element at the proper position\n",
    "after insertion every element to its left will be sorted\n",
    "also insersion sort is stable sorting tecnique\n",
    "Time compextity of selection sort is\n",
    "Comparisions :- 1+2+3+4+....+n-1 =n(n-1)/2 which is O(n^2)\n",
    "Swapping     :- 1+2+3+4+....+n-1 =n(n-1)/2 which is O(n^2)"
   ]
  },
  {
   "cell_type": "code",
   "execution_count": 4,
   "metadata": {},
   "outputs": [
    {
     "name": "stdout",
     "output_type": "stream",
     "text": [
      "[1, 2, 5, 7, 3, 21, 23, 34, 4]\n"
     ]
    }
   ],
   "source": [
    "def insersion_sort(a):\n",
    "    n=len(a)\n",
    "    for i in range(1,n-1):\n",
    "        cvalue=a[i]\n",
    "        while a[i]>0 and a[i-1]>a[i]:\n",
    "            a[i]=a[i-1]\n",
    "            i=i-1\n",
    "        a[i]=cvalue\n",
    "    return a\n",
    "a=[1,2,34,5,7,3,21,23,4]\n",
    "r=insersion_sort(a)\n",
    "print(r)"
   ]
  },
  {
   "cell_type": "markdown",
   "metadata": {},
   "source": [
    "#### Bubble sort"
   ]
  },
  {
   "cell_type": "raw",
   "metadata": {},
   "source": [
    "it compares the consecutive elements\n",
    "If the element to the left is greater than the right element than swap them\n",
    "Continue this to the end of the collection and perform several passes to sort the element\n",
    "Bubble sort tecnique is also stable sort\n",
    "Time compextity of selection sort is\n",
    "Comparisions :- n-1+....+3+2+1 =n(n-1)/2 which is O(n^2)\n",
    "Swapping     :- n-1+....+3+2+1 =n(n-1)/2 which is O(n^2)"
   ]
  },
  {
   "cell_type": "code",
   "execution_count": 5,
   "metadata": {},
   "outputs": [
    {
     "name": "stdout",
     "output_type": "stream",
     "text": [
      "[1, 2, 2, 3, 4, 8, 8, 46, 90, 233]\n"
     ]
    }
   ],
   "source": [
    "def bubble_sort(a):\n",
    "    n=len(a)\n",
    "    for i in range(n-1,0,-1):\n",
    "        for j in range(i):\n",
    "            if a[j]>a[j+1]:\n",
    "                temp=a[j]\n",
    "                a[j]=a[j+1]\n",
    "                a[j+1]=temp\n",
    "    return a\n",
    "a=[2,3,46,8,8,4,2,1,233,90]\n",
    "r=bubble_sort(a)\n",
    "print(r)"
   ]
  },
  {
   "cell_type": "markdown",
   "metadata": {},
   "source": [
    "#### Shell sort"
   ]
  },
  {
   "cell_type": "raw",
   "metadata": {},
   "source": [
    "It select an element and compare element after a gap\n",
    "similar to insertion sort\n",
    "and it insert selected element from the gap at its proper position\n",
    "Let us assume that the collection have 6 elements in it then the it divides by 2 and get 3 as the gap, now it compares every 3 gap index on the left hand side for the first index but at left there is nothing so it compares the right hand side with the 3 gap in the index so with the 4th element after the process the gap is again divided by 2 then 3/2 we get 1 now it do the same process over and over till we get the sorted result and till the gap value becomes zero\n",
    "Time compextity of selection sort is\n",
    "Gaps  :- n/2,gap/2,gap/2,....,0 = log2(n) which is O(nlog(n))\n",
    "It is not hard an fast rule that we only divide the gap by 2 we can also divide it by 3 or any number usually we use 2 or any prime number which is less than the collection"
   ]
  },
  {
   "cell_type": "code",
   "execution_count": 16,
   "metadata": {},
   "outputs": [
    {
     "name": "stdout",
     "output_type": "stream",
     "text": [
      "[1, 1, 2, 2, 3, 4, 6, 7, 23]\n"
     ]
    }
   ],
   "source": [
    "def shell_sort(a):\n",
    "    n=len(a)\n",
    "    gap=n//2\n",
    "    while gap>0:\n",
    "        i=gap\n",
    "        while i<n:\n",
    "            temp=a[i]\n",
    "            j=i-gap\n",
    "            while j>=0 and a[j]>temp:\n",
    "                a[j+gap]=a[j]\n",
    "                j=j-gap\n",
    "            a[j+gap]=temp\n",
    "            i+=1\n",
    "        gap//=2\n",
    "    return a\n",
    "a=[1,3,4,6,7,2,23,1,2]\n",
    "r=shell_sort(a)\n",
    "print(r)"
   ]
  },
  {
   "cell_type": "markdown",
   "metadata": {},
   "source": [
    "#### Merge sort"
   ]
  },
  {
   "cell_type": "raw",
   "metadata": {},
   "source": [
    "In this we divide the collection of elements in smaller subsets\n",
    "Recursively sort the subset\n",
    "Combine or merge the solution into one result\n",
    "Divide and conquer approach\n",
    "if let us assume that there is a collection of 6 elements in an array then we divide this collection by half and thus getting two smaller subsets then there is left half and the right half first of all let us assume the left half we further divide the left half into two parts but the left half contains only 3 members so we cannot divide it equally so we consider the first element be one half and ther other two as the other half and again we divide the two element into half then we merge the sorted array same things we do for the other right half after the bot half are sorted then the easy part is done now the conquer part which is difficult now we take the first sorted element on each half and compares them\n",
    "Time compextity of selection sort is\n",
    "Comparisions :- n1+n2 which is O(n1+n2) = O(n)\n",
    "Subset at levels :- 1+2+4+16+....\n",
    "                    2^0+2^1+2^2+2^3+....=log2(n)\n",
    "Therefore running time of merge : O(n)\n",
    "          Total time spent      : O(n)*log2(n) which is O(nlog(n))"
   ]
  },
  {
   "cell_type": "code",
   "execution_count": 3,
   "metadata": {},
   "outputs": [
    {
     "name": "stdout",
     "output_type": "stream",
     "text": [
      "[1, 2, 3, 6, 8, 9, 12, 43, 44, 45, 65, 78]\n"
     ]
    }
   ],
   "source": [
    "def merge_sort(a,left,right):\n",
    "    if left<right:\n",
    "        mid=(left+right)//2\n",
    "        merge_sort(a,left,mid)\n",
    "        merge_sort(a,mid+1,right)\n",
    "        merge(a,left,mid,right)\n",
    "    return a\n",
    "\n",
    "def merge(a,left,mid,right):\n",
    "    i=left\n",
    "    j=mid+1\n",
    "    k=left\n",
    "    b=[0]*(right+1) # this is the size of the array\n",
    "    while i<=mid and j<=right:\n",
    "        if a[i]<a[j]:\n",
    "            b[k]=a[i]\n",
    "            i+=1\n",
    "        else:\n",
    "            b[k]=a[j]\n",
    "            j+=1\n",
    "        k+=1\n",
    "    while i<=mid:\n",
    "        b[k]=a[i]\n",
    "        i+=1\n",
    "        k+=1\n",
    "    while j<=right:\n",
    "        b[k]=a[j]\n",
    "        j+=1\n",
    "        k+=1\n",
    "    for x in range(left,right+1):\n",
    "        a[x]=b[x]\n",
    "\n",
    "a=[2,45,6,8,9,12,3,43,65,78,44,1]\n",
    "l=len(a)-1\n",
    "r=merge_sort(a,0,l)\n",
    "print(r)"
   ]
  },
  {
   "cell_type": "markdown",
   "metadata": {},
   "source": [
    "#### Quick sort"
   ]
  },
  {
   "cell_type": "raw",
   "metadata": {},
   "source": [
    "It basically divides the collection of elements into subset or partitions\n",
    "Partition based on pivot\n",
    "Recursivly sort the partition using quick sort\n",
    "divide and conquer approach\n",
    "here pivot basically is a point from which the left hand of that point all the elements are smaller than the right side elements, if we cant find the pivot than we arrange them which is called partioning and then we get the pivot point\n",
    "Time compextity of selection sort is O(n^2)"
   ]
  },
  {
   "cell_type": "code",
   "execution_count": 1,
   "metadata": {},
   "outputs": [
    {
     "ename": "TypeError",
     "evalue": "unsupported operand type(s) for -: 'list' and 'int'",
     "output_type": "error",
     "traceback": [
      "\u001b[1;31m---------------------------------------------------------------------------\u001b[0m",
      "\u001b[1;31mTypeError\u001b[0m                                 Traceback (most recent call last)",
      "\u001b[1;32m<ipython-input-1-3c4da0c89284>\u001b[0m in \u001b[0;36m<module>\u001b[1;34m\u001b[0m\n\u001b[0;32m     23\u001b[0m \u001b[0ma\u001b[0m\u001b[1;33m=\u001b[0m\u001b[1;33m[\u001b[0m\u001b[1;36m1\u001b[0m\u001b[1;33m,\u001b[0m\u001b[1;36m34\u001b[0m\u001b[1;33m,\u001b[0m\u001b[1;36m5\u001b[0m\u001b[1;33m,\u001b[0m\u001b[1;36m2\u001b[0m\u001b[1;33m,\u001b[0m\u001b[1;36m54\u001b[0m\u001b[1;33m]\u001b[0m\u001b[1;33m\u001b[0m\u001b[1;33m\u001b[0m\u001b[0m\n\u001b[0;32m     24\u001b[0m \u001b[0ml\u001b[0m\u001b[1;33m=\u001b[0m\u001b[0mlen\u001b[0m\u001b[1;33m(\u001b[0m\u001b[0ma\u001b[0m\u001b[1;33m)\u001b[0m\u001b[1;33m-\u001b[0m\u001b[1;36m1\u001b[0m\u001b[1;33m\u001b[0m\u001b[1;33m\u001b[0m\u001b[0m\n\u001b[1;32m---> 25\u001b[1;33m \u001b[0mr\u001b[0m\u001b[1;33m=\u001b[0m\u001b[0mquick_sort\u001b[0m\u001b[1;33m(\u001b[0m\u001b[0ma\u001b[0m\u001b[1;33m,\u001b[0m\u001b[1;36m0\u001b[0m\u001b[1;33m,\u001b[0m\u001b[0ml\u001b[0m\u001b[1;33m)\u001b[0m\u001b[1;33m\u001b[0m\u001b[1;33m\u001b[0m\u001b[0m\n\u001b[0m\u001b[0;32m     26\u001b[0m \u001b[0mprint\u001b[0m\u001b[1;33m(\u001b[0m\u001b[0mr\u001b[0m\u001b[1;33m)\u001b[0m\u001b[1;33m\u001b[0m\u001b[1;33m\u001b[0m\u001b[0m\n",
      "\u001b[1;32m<ipython-input-1-3c4da0c89284>\u001b[0m in \u001b[0;36mquick_sort\u001b[1;34m(a, low, high)\u001b[0m\n\u001b[0;32m      2\u001b[0m     \u001b[1;32mif\u001b[0m \u001b[0mlow\u001b[0m\u001b[1;33m<\u001b[0m\u001b[0mhigh\u001b[0m\u001b[1;33m:\u001b[0m\u001b[1;33m\u001b[0m\u001b[1;33m\u001b[0m\u001b[0m\n\u001b[0;32m      3\u001b[0m         \u001b[0mpi\u001b[0m\u001b[1;33m=\u001b[0m\u001b[0mpartition\u001b[0m\u001b[1;33m(\u001b[0m\u001b[0ma\u001b[0m\u001b[1;33m,\u001b[0m\u001b[0mlow\u001b[0m\u001b[1;33m,\u001b[0m\u001b[0mhigh\u001b[0m\u001b[1;33m)\u001b[0m\u001b[1;33m\u001b[0m\u001b[1;33m\u001b[0m\u001b[0m\n\u001b[1;32m----> 4\u001b[1;33m         \u001b[0mquick_sort\u001b[0m\u001b[1;33m(\u001b[0m\u001b[0ma\u001b[0m\u001b[1;33m,\u001b[0m\u001b[0mlow\u001b[0m\u001b[1;33m,\u001b[0m\u001b[0mpi\u001b[0m\u001b[1;33m-\u001b[0m\u001b[1;36m1\u001b[0m\u001b[1;33m)\u001b[0m\u001b[1;33m\u001b[0m\u001b[1;33m\u001b[0m\u001b[0m\n\u001b[0m\u001b[0;32m      5\u001b[0m         \u001b[0mquick_sort\u001b[0m\u001b[1;33m(\u001b[0m\u001b[0ma\u001b[0m\u001b[1;33m,\u001b[0m\u001b[0mpi\u001b[0m\u001b[1;33m+\u001b[0m\u001b[1;36m1\u001b[0m\u001b[1;33m,\u001b[0m\u001b[0mhigh\u001b[0m\u001b[1;33m)\u001b[0m\u001b[1;33m\u001b[0m\u001b[1;33m\u001b[0m\u001b[0m\n\u001b[0;32m      6\u001b[0m \u001b[1;33m\u001b[0m\u001b[0m\n",
      "\u001b[1;31mTypeError\u001b[0m: unsupported operand type(s) for -: 'list' and 'int'"
     ]
    }
   ],
   "source": [
    "def quick_sort(a,low,high):\n",
    "    if low<high:\n",
    "        pi=partition(a,low,high)\n",
    "        quick_sort(a,low,pi-1)\n",
    "        quick_sort(a,pi+1,high)\n",
    "    \n",
    "def partition(a,low,high):\n",
    "    pivot=a[low]\n",
    "    i=low+1\n",
    "    j=high\n",
    "    while True:\n",
    "        while i<=j and a[i]<=pivot:\n",
    "            i+=1\n",
    "        while i<=j and a[j]>pivot:\n",
    "            j-=1\n",
    "        if i<=j:\n",
    "            a[i],a[j]=a[j],a[i]\n",
    "        else:\n",
    "            break\n",
    "    a[low],a[j]=a[j],a[low]\n",
    "    return a\n",
    "\n",
    "a=[1,34,5,2,54]\n",
    "l=len(a)-1\n",
    "r=quick_sort(a,0,l)\n",
    "print(r)"
   ]
  },
  {
   "cell_type": "markdown",
   "metadata": {},
   "source": [
    "#### Python built in sort function"
   ]
  },
  {
   "cell_type": "code",
   "execution_count": 15,
   "metadata": {},
   "outputs": [
    {
     "name": "stdout",
     "output_type": "stream",
     "text": [
      "[1, 1, 2, 3, 4, 6, 9, 43, 45, 52]\n"
     ]
    }
   ],
   "source": [
    "a=[1,3,4,52,2,1,43,45,6,9] # built in sort function default it sorts in ascending order\n",
    "b=sorted(a)\n",
    "print(b)"
   ]
  },
  {
   "cell_type": "code",
   "execution_count": 16,
   "metadata": {},
   "outputs": [
    {
     "name": "stdout",
     "output_type": "stream",
     "text": [
      "[1, 1, 2, 3, 4, 6, 9, 43, 45, 52]\n"
     ]
    }
   ],
   "source": [
    "a=[1,3,4,52,2,1,43,45,6,9]  # built in sort method to do sort\n",
    "a.sort()\n",
    "print(a)"
   ]
  },
  {
   "cell_type": "code",
   "execution_count": 17,
   "metadata": {},
   "outputs": [
    {
     "name": "stdout",
     "output_type": "stream",
     "text": [
      "[52, 45, 43, 9, 6, 4, 3, 2, 1, 1]\n"
     ]
    }
   ],
   "source": [
    "a=[1,3,4,52,2,1,43,45,6,9] # use reverse=True for printing in descending order\n",
    "a.sort(reverse=True)\n",
    "print(a)"
   ]
  },
  {
   "cell_type": "markdown",
   "metadata": {},
   "source": [
    "### Linked List"
   ]
  },
  {
   "cell_type": "raw",
   "metadata": {},
   "source": [
    " what is array array is a sequential memory list, python uses low level concept of arrays to represent the sequenced we use list,tuple, and str as a built in sequential classes\n",
    "but there are some limitations of array particularly arrays that all the data stored must be of same integer type, secondly an array must be of fixed size (immutable), once the array is created it cant be changed and also the array stores the data sequntially\n",
    "\n",
    "Now let us talk about linked list:-\n",
    "It is a collection of elements, where each element is represented as node, and each node contains the data along with the link of the other node\n",
    "here the link stores the address of the other nodes and the other stores the address of the next node and the process is not sequntial like for arrays there may be the address of the next node be way different memory than the previous one, and the last element of the linked list stores null\n",
    "advantage of linked list is that they can store only that elements which we basically need and that would save the memory too, also it is more flexible than the array\n",
    "\n",
    "while creating a node we need two things element and the link or here we are going to call it as next, here in node the element and next are called instance variables\n",
    "\n",
    "So in order t do so we need dictionary for that to store the instantaneous variables, but here to avoid the dict we need to use a built-in class called (__slot__) by this we can create the linked list, we use it as\n",
    "class Node:\n",
    "    __slot__ = '_element', '_next'\n",
    "    def __init__(self,element,next):        now we need to initialize the class so to do so we need the init method\n",
    "        self._element=element\n",
    "        self._next=next\n",
    "here self is describing the instance class method and the (element and the next) is different from the (_element and _next)\n",
    "the _ variables are instance variable which is visible throughout the class inside the init method we are going to give the values to the instance variables\n",
    "Let us now create the first node by an object N1 as the node\n",
    "\n",
    "n1=Node(7,None)    here the n1 is the object and the node is the class and the arguments are element as 7 and next as none\n",
    "\n",
    "None is a premitie value in python and now the first node is created, to access the elements of the first node we use dot like\n",
    "\n",
    "n1._element\n",
    "n1._next        After this another node is created \n",
    "\n",
    "n2=Node(4,None)    now we have to link these two so we need to take the memory address of n2 to n1 so to do so we need to so in \n",
    "                   order to do so we write\n",
    "n1._next=n2        here remember the dot is used to access the members of the class\n",
    "\n",
    "here each node is a unique object, the first and the last node of a linked list is called a head and tail respectively without the reference of head there will be no first list we may or may not locate the tail reference\n",
    "so we allocate head to a variable x=head here head is pointing the first node value \n",
    "the time complexity of linked list is O(1)"
   ]
  },
  {
   "cell_type": "code",
   "execution_count": 9,
   "metadata": {},
   "outputs": [
    {
     "name": "stdout",
     "output_type": "stream",
     "text": [
      "1-->3-->4-->15-->25-->\n",
      "size: 5\n",
      "3\n"
     ]
    }
   ],
   "source": [
    "#traversing a linked list when we move from head to tail then we get the linked list and the method is called traversing\n",
    "\n",
    "class _node:\n",
    "    __slots__='_element','_next'    # here we are using slots to efficiently allocate the memory for the instance variable\n",
    "    def __init__(self,element,next):# and to overcome the problem of implicit class which require additional data usage and\n",
    "        self._element=element       # memory and is not suitable for data structure , now we need to initialize the node class\n",
    "        self._next= next\n",
    "        \n",
    "class linkedlist:              # this class is used to define various operation to create the linked list\n",
    "    def __init__(self):        #init method has only one parameter since this is an instance method of the linked list class\n",
    "        self._head= None\n",
    "        self._tail=None\n",
    "        self._size= 0\n",
    "        \n",
    "    def __len__(self):        # this method is used to store the size of the linked list\n",
    "        return self._size     # this will store the linked list\n",
    "    \n",
    "    def isempty(self):        # here we are not preceding or succeding with __ as this is user defined method but init and len\n",
    "        return self._size==0  # are class level built in methods, this method checks wheather the link is empty or not\n",
    "    \n",
    "    def addlast(self,e):      # here the patameter e contains the value of the list\n",
    "        newest=_node(e,None)\n",
    "        if self.isempty():\n",
    "            self._head=newest\n",
    "        else:\n",
    "            self._tail._next=newest\n",
    "        self._tail=newest\n",
    "        self._size+=1\n",
    "        \n",
    "    def addfirst(self,e):\n",
    "        newest=_node(e,None)\n",
    "        if self.isempty():\n",
    "            self._head=newest\n",
    "            self._tail=newest\n",
    "        else:\n",
    "            newest._next=self._head\n",
    "            self._head=newest\n",
    "        self._size+=1\n",
    "    \n",
    "    def addany(self,e,position):\n",
    "        newest=_node(e,None)\n",
    "        p=self._head\n",
    "        i=1\n",
    "        while i<position-1:\n",
    "            p=p._next\n",
    "            i+=1\n",
    "        newest._next=p._next\n",
    "        p._next=newest\n",
    "        self._size+=1\n",
    "    \n",
    "    def display(self):        # for traversing the linked list\n",
    "        p=self._head          # here p is the pointer \n",
    "        while p:\n",
    "            print(p._element,end='-->')\n",
    "            p=p._next\n",
    "        print()\n",
    "        \n",
    "    def search(self,key):\n",
    "        p=self._head\n",
    "        index=0\n",
    "        while p:\n",
    "            if p._element==key:\n",
    "                return index\n",
    "            p=p._next\n",
    "            index+=1\n",
    "        return -1\n",
    "    def removelast(self):\n",
    "        if self.isempty():\n",
    "            print(\"List is empty\")\n",
    "            return\n",
    "        p=self._head\n",
    "        i=1\n",
    "        while i<len(self)-1:\n",
    "            p=p._next\n",
    "            i+=1\n",
    "        self._tail=p\n",
    "        p=p._next\n",
    "        e=p._element\n",
    "        self._tail._next=None\n",
    "        self._size-=1\n",
    "        return e\n",
    "    \n",
    "    def removeany(self,pos):\n",
    "        if self.isempty():\n",
    "            print(\"The list is empty\")\n",
    "            return\n",
    "        p=self._head\n",
    "        i=1\n",
    "        while i<pos-1:\n",
    "            p=p._next\n",
    "            i+=1\n",
    "        e=p._next._element\n",
    "        p._next=p._next._next\n",
    "        self._size-=1\n",
    "        return e\n",
    "        \n",
    "        \n",
    "\n",
    "L=linkedlist()               # here L is the object of linkedlist class\n",
    "L.addfirst(15)\n",
    "L.addfirst(4)\n",
    "L.addfirst(3)\n",
    "L.addlast(25)\n",
    "L.addfirst(1)\n",
    "L.addany(2,3)\n",
    "L.removeany(3)\n",
    "L.display()\n",
    "print(\"size:\",len(L))\n",
    "i=L.search(15)\n",
    "print(i)\n"
   ]
  },
  {
   "cell_type": "markdown",
   "metadata": {},
   "source": [
    "#### Delete a node in the Linked list"
   ]
  },
  {
   "cell_type": "raw",
   "metadata": {},
   "source": [
    "Here in order to delete a node at the tail of the linked list we need to travese the linked list from the head as we cannot\n",
    "delete the tail node as we cannot traverse it backward cause the next only goes forward only so we always goes from head to\n",
    "tail if we want to delete the last node\n",
    "you can find the delete function in the above example "
   ]
  },
  {
   "cell_type": "markdown",
   "metadata": {},
   "source": [
    "### Stack"
   ]
  },
  {
   "cell_type": "raw",
   "metadata": {},
   "source": [
    "Stack is a data structure which is a collection of objects\n",
    "we can collect the object in LIFO manner it means (Last in First out) \n",
    "there are two methods to insert or push and remove (pop)\n",
    "\n",
    "Applications of stack:-\n",
    "They are used to save the webpage history\n",
    "Undo operations in the text editor is performed by the stack\n",
    "Stacks can also be able to perform the validation of the HTML tags by matching nested opening and closing of the tag\n",
    "Stacks are also used to perform arithematic operations and validate the oening and closing of the parathensis of the expression\n",
    "Infix to postfix notations are done by stack\n",
    "\n",
    "Stack Abstract Data Type (ADT):-Stack is an abstract data type that supports the methods like\n",
    "1. Push(Object):- Used to insert elements on top of the stack\n",
    "2. Pop():- Used to remove and return element\n",
    "3. Top():- Return last inserted element\n",
    "The difference between the top and pop methods are that both are used to return the top element but the pop() remove the top element and return the element while\n",
    "Top() only returns the top element\n",
    "4. len():- Returns the number of the stack elements\n",
    "5. isEmpty():- Returns wheather the stack is empty or not\n",
    "\n",
    "To implement the stack(ADT) we need array or linked list in order to store the stack elements\n"
   ]
  },
  {
   "cell_type": "markdown",
   "metadata": {},
   "source": [
    "#### Stack using arrays"
   ]
  },
  {
   "cell_type": "raw",
   "metadata": {},
   "source": [
    "Since in python we can use low level concept of python to implement arrays which are\n",
    "List and Tuple Built in classes\n",
    "since tuples are immutabe we cannot implement the stack"
   ]
  },
  {
   "cell_type": "code",
   "execution_count": 4,
   "metadata": {},
   "outputs": [
    {
     "name": "stdout",
     "output_type": "stream",
     "text": [
      "[5, 3]\n",
      "length: 2\n",
      "3\n",
      "[5]\n",
      "5\n"
     ]
    }
   ],
   "source": [
    "class stackarr:\n",
    "    def __init__(self):\n",
    "        self._data=[]\n",
    "    \n",
    "    def __len__(self):\n",
    "        return len(self._data)\n",
    "    \n",
    "    def isempty(self):\n",
    "        return len(self._data)==0\n",
    "    \n",
    "    def push(self,e):\n",
    "        self._data.append(e)\n",
    "    \n",
    "    def pop(self):\n",
    "        if self.isempty():\n",
    "            print(\"Stack is empty\")\n",
    "            return\n",
    "        return self._data.pop()\n",
    "    \n",
    "    def top(self):\n",
    "        if self.isempty():\n",
    "            print(\"stack is empty\")\n",
    "            return\n",
    "        return self._data[-1]\n",
    "\n",
    "S=stackarr()                        # Now we create the boject of stackarr class\n",
    "S.push(5)\n",
    "S.push(3)\n",
    "print(S._data)\n",
    "print(\"length:\",len(S))\n",
    "print(S.pop())                      \n",
    "print(S._data)\n",
    "print(S.top())\n",
    "# This is how abstract data type stack can be implemented using stack class"
   ]
  },
  {
   "cell_type": "markdown",
   "metadata": {},
   "source": [
    "### Queue"
   ]
  },
  {
   "cell_type": "raw",
   "metadata": {},
   "source": [
    "Queue is a collection of objects which follows FIFO order means (First in First out)\n",
    "Lets consider there is a pipe which is open from the both ends and one end is called front and the other is called the rear so\n",
    "there is three balls red, blue and yellow. So first we insert the red ball from the rear end and then the blue and yellow\n",
    "after that we remove ther balls from the front end so we get the red ball first and than blue and yellow balls so in that manner\n",
    "we can say that it is FIFO order\n",
    "Removing an object from the queue is called (dequeue)\n",
    "\n",
    "Applications of queue:-\n",
    "People are waiting in the line for security check\n",
    "people waiting in the line outside the ATM machine\n",
    "Customer call request the customers are waited in the queue for there chance to connect with the technician\n",
    "They are used in printers where multiple documents are to be printed\n",
    "Web server responding to queue requests\n",
    "\n",
    "Queue Abstract Data Type (ADT):- Queue ADT supports the method like\n",
    "\n",
    "enqueue(object):- Insert element from the rear end of queue\n",
    "dequeue():- Remove and return element from the front end of the queue\n",
    "first():- retuns the first element from the queue without removing the first element like dequeue\n",
    "len():- returns the lenght of the queue\n",
    "isempty():- it lets us know whether the queue is empty or not\n",
    "\n",
    "To implement the queue(ADT) we need array or linked list in order to store the stack elements"
   ]
  },
  {
   "cell_type": "markdown",
   "metadata": {},
   "source": [
    "#### Queue using array"
   ]
  },
  {
   "cell_type": "raw",
   "metadata": {},
   "source": [
    "Since in python we can use low level concept of python to implement arrays which are\n",
    "List and Tuple Built in classes\n",
    "since tuples are immutabe we cannot implement the queue"
   ]
  },
  {
   "cell_type": "code",
   "execution_count": 11,
   "metadata": {},
   "outputs": [
    {
     "name": "stdout",
     "output_type": "stream",
     "text": [
      "[5, 10]\n",
      "Length: 2\n",
      "5\n",
      "10\n"
     ]
    }
   ],
   "source": [
    "class queuearr:\n",
    "    def __init__(self):\n",
    "        self._data=[]\n",
    "    \n",
    "    def __len__(self):\n",
    "        return len(self._data)\n",
    "    \n",
    "    def isempty(self):\n",
    "        return len(self._data)==0\n",
    "    \n",
    "    def enqueue(self,e):\n",
    "        return self._data.append(e)\n",
    "    \n",
    "    def dequeue(self):\n",
    "        if self.isempty():\n",
    "            print(\"Queue is empty\")\n",
    "            return \n",
    "        return self._data.pop(0)\n",
    "    \n",
    "    def first(self):\n",
    "        if self.isempty():\n",
    "            print(\"Queue is empty\")\n",
    "            return \n",
    "        return self._data[0]\n",
    "\n",
    "Q=queuearr()                         # Here we create the method for the class queuearr\n",
    "Q.enqueue(5)\n",
    "Q.enqueue(10)\n",
    "print(Q._data)\n",
    "print(\"Length:\",len(Q._data))\n",
    "print(Q.dequeue())\n",
    "print(Q.first())"
   ]
  },
  {
   "cell_type": "markdown",
   "metadata": {},
   "source": [
    "### Tree"
   ]
  },
  {
   "cell_type": "raw",
   "metadata": {},
   "source": [
    "Tree is a non-linear data structure, where stack, queues are linear data structure whereas trees and graph are non linear data \n",
    "structure. A Tree is an abstract data type which can stores the element heirarically\n",
    "Tree is derieved from the family tree where we put the data in an hierarical format, a tree is a collection of nodes which is\n",
    "arranged heirarically with parent-child relationship. The parent-child relatonship is stablished through the edges(edge is link)\n",
    "between the parent and the child node\n",
    "For (n) nunmber of nodes in a tree there are (n-1) number of edges.\n",
    "Can a tree be Empty ? the answer is Yes , considering this empty tree we can determine tree recursivly\n",
    "A collection of tree is known as forest \n",
    "Heights and levels:-\n",
    "for the root node the height is 0 and the level is 1 # Height is the number of edges coming in the path \n",
    "for the root node the height is 1 and the level is 2 # level is basically number of nodes comming in the path\n",
    "if level is (n) then the height will be (n-1)\n",
    "\n",
    "Degree of the node:- It is the number of the children nodes\n",
    "Degree of leaf node is zero as it has no children\n",
    "\n",
    "Degree of a tree:- It is the maximum degree of the node\n",
    "Any node which have the max number of degree is the degree of a tree not nessesarily its the root node degree itself it can be\n",
    "any nodes degree\n"
   ]
  },
  {
   "cell_type": "markdown",
   "metadata": {},
   "source": [
    "### Binary tree"
   ]
  },
  {
   "cell_type": "raw",
   "metadata": {},
   "source": [
    "In binary tree every node in the tree should have atmost 2 children or one child or no children it cannot have more than 2 child\n",
    "Every child is labelled as a left and a right child and left child preceds right child in the order of nodes\n",
    "Any tree with degree of tree is 2 then its a binary tree\n",
    "If a binary tree have only 1 left child node and likewise it is called left skewed binary tree\n",
    "If a binary tree have only 1 right child node and likewise it is called right skewed binary tree\n",
    "maximum number of nodes in a binary tree of height h is calculated as:-\n",
    "\n",
    "    Height                   Nodes\n",
    "    0                        1\n",
    "    1                        3\n",
    "    2                        7\n",
    "so now to calculate the maximum number of nodes of height h is (2)^(h+1)-1\n",
    "\n",
    "Proper Binary Tree:- If every node can have only 0 or 2 nodes (not 1) then its proper binary tree\n",
    "\n",
    "Full Binary Tree:- every internal node has exactly two children and all the leaf node are at same level heigh:-(2)^(h+1)-1\n",
    "\n",
    "Complete Binary Tree:- Binary tree where nodes at each level are numbered from left to right without any gap\n",
    "\n",
    "Binary tree representation:-\n",
    "we can do this by \n",
    "Arrays or linked list\n",
    "IN arary we store it in the left and right child node by the formula which is denoted as for the left we have i*2 where i is the index of the parent node\n",
    "and for the right node we have the formula which is denoted by i*2+1\n",
    "these formula are also usefull for heap binary tree\n",
    "\n",
    "for traversing it with linked list we have a node which have value left address and right address so when the node have a left child then the address of the left child is stored in the left of that node and likewise the address of the right node is placed on the right side in the parent node\n"
   ]
  },
  {
   "cell_type": "markdown",
   "metadata": {},
   "source": [
    "#### Traversing Binary Tree"
   ]
  },
  {
   "cell_type": "raw",
   "metadata": {},
   "source": [
    "There are mainly four types of traversing technique in binary tree\n",
    "1: Inorder \n",
    "2: Preorder\n",
    "3: Postorder\n",
    "4: Level order\n",
    "\n",
    "preorder :- \n",
    "    Visits root\n",
    "    Visits left subtree recursively \n",
    "    Visits right subtree recursively \n",
    "\n",
    "Inorder :-\n",
    "    Visits left subtree recursively\n",
    "    Visits root\n",
    "    Visits right subtree recursively\n",
    "    \n",
    "Postorder:-\n",
    "    Visits left subtree recursively\n",
    "    Visits right subtree recursively\n",
    "    Visits root\n",
    "\n",
    "Level order:-\n",
    "    Visits node level by level from top to bottom \n",
    "    Within level visit nodes from left to right"
   ]
  },
  {
   "cell_type": "code",
   "execution_count": 3,
   "metadata": {},
   "outputs": [
    {
     "name": "stdout",
     "output_type": "stream",
     "text": [
      "inorder traversal\n",
      "20 10 30 \n",
      "preorder traversal\n",
      "10 20 30 \n",
      "postorder traversal\n",
      "20 30 10 "
     ]
    }
   ],
   "source": [
    "class _Node:\n",
    "    __slot__='_element','_left','_right'  # For dynamic memory allocation we use slot class member\n",
    "    \n",
    "    def __init__(self,element,left=None,right=None):\n",
    "        self._element=element\n",
    "        self._left=left\n",
    "        self._right=right\n",
    "\n",
    "class queueslink:\n",
    "    def __init__(self):\n",
    "        self._front=None\n",
    "        self._rear=None\n",
    "        self._size=0\n",
    "        \n",
    "    def __len__(self):\n",
    "        return self._size\n",
    "    \n",
    "    def isempty(self):\n",
    "        return self._size==0\n",
    "        \n",
    "class binarytree:\n",
    "    def __init__(self):\n",
    "        self._root=None      # TO store the reference of the root of binary tree\n",
    "    \n",
    "    def maketree(self,e,left,right):\n",
    "        self._root=_Node(e,left._root,right._root)\n",
    "        \n",
    "    def inorder(self,troot):      # troot is for the root of the binary tree\n",
    "        if troot:\n",
    "            self.inorder(troot._left)\n",
    "            print(troot._element,end=' ')\n",
    "            self.inorder(troot._right)\n",
    "            \n",
    "    def preorder(self,troot):\n",
    "        if troot:\n",
    "            print(troot._element,end=' ')\n",
    "            self.preorder(troot._left)\n",
    "            self.preorder(troot._right)\n",
    "    \n",
    "    def postorder(self,troot):\n",
    "        if troot:\n",
    "            self.postorder(troot._left)\n",
    "            self.postorder(troot._right)\n",
    "            print(troot._element,end=' ')\n",
    "            \n",
    "    def levelorder(self):\n",
    "        \n",
    "        \n",
    "x=binarytree()                       # These are the tree nodes that we are creating x,y,z\n",
    "y=binarytree()\n",
    "z=binarytree()\n",
    "a=binarytree()                       # Here a is the object which is used as a null binary tree which is used for assigning \n",
    "                                     # null to the leaf nodes\n",
    "x.maketree(20,a,a)                   # Here x and y are the object of the leaf nodes\n",
    "y.maketree(30,a,a)                   # the tree have 10 as the root node 20 as the left child node and 30 as the right child nod\n",
    "z.maketree(10,x,y)\n",
    "print(\"inorder traversal\")\n",
    "z.inorder(z._root)                     # Here we are travering the binary tree in inorder since z is the object of the root node\n",
    "print()\n",
    "print(\"preorder traversal\")\n",
    "z.preorder(z._root)\n",
    "print()\n",
    "print(\"postorder traversal\")\n",
    "z.postorder(z._root)"
   ]
  },
  {
   "cell_type": "code",
   "execution_count": 6,
   "metadata": {},
   "outputs": [
    {
     "name": "stdout",
     "output_type": "stream",
     "text": [
      "rajat\n",
      "rajat\n"
     ]
    }
   ],
   "source": [
    "def StringChallenge(str):\n",
    "  l=len(str)\n",
    "  str2='passWord'\n",
    "  bool=False\n",
    "  if str2 in str:\n",
    "        return bool\n",
    "        \n",
    "  for i in str:\n",
    "        if(ord(i)>=33 and ord(i)<=126 and l>7 and l<31):\n",
    "            return True\n",
    "  return str\n",
    "\n",
    "# keep this function call here \n",
    "print(StringChallenge(input()))"
   ]
  },
  {
   "cell_type": "markdown",
   "metadata": {},
   "source": [
    "#### Practice"
   ]
  },
  {
   "cell_type": "code",
   "execution_count": 65,
   "metadata": {},
   "outputs": [
    {
     "name": "stdout",
     "output_type": "stream",
     "text": [
      "2 3 4 2 3 4 3 3\n",
      "{'count': [2, 7, 4, 7, 2, 7, 2, 7, 4, 7, 2, 7, 4, 7, 4], 'value': ['2', ' ', '3', ' ', '4', ' ', '2', ' ', '3', ' ', '4', ' ', '3', ' ', '3']}\n"
     ]
    }
   ],
   "source": [
    "def ArrayChallenge(arr):\n",
    "  l=len(arr)\n",
    "  dict={\"count\":[],\"value\":[]}\n",
    "  for i in range(0,l,1):\n",
    "        j=0\n",
    "        count=0\n",
    "        for j in range(0,l,1):\n",
    "            if arr[j]==arr[i]:\n",
    "                count+=1\n",
    "        dict[\"count\"].append(count)\n",
    "        dict[\"value\"].append(arr[i])\n",
    "  return dict\n",
    "\n",
    "# keep this function call here \n",
    "print(ArrayChallenge(input()))"
   ]
  },
  {
   "cell_type": "code",
   "execution_count": 6,
   "metadata": {},
   "outputs": [
    {
     "name": "stdout",
     "output_type": "stream",
     "text": [
      "[[ 2  3  4 51  2]\n",
      " [ 3  5  6  7 30]]\n"
     ]
    }
   ],
   "source": [
    "import numpy as np\n",
    "a=np.array([[2,3,4,51,2],[3,5,6,7,30]])\n",
    "print(a)"
   ]
  },
  {
   "cell_type": "code",
   "execution_count": 10,
   "metadata": {},
   "outputs": [
    {
     "ename": "XLRDError",
     "evalue": "No sheet named <'DATA'>",
     "output_type": "error",
     "traceback": [
      "\u001b[1;31m---------------------------------------------------------------------------\u001b[0m",
      "\u001b[1;31mValueError\u001b[0m                                Traceback (most recent call last)",
      "\u001b[1;32m~\\anaconda3\\lib\\site-packages\\xlrd\\book.py\u001b[0m in \u001b[0;36msheet_by_name\u001b[1;34m(self, sheet_name)\u001b[0m\n\u001b[0;32m    473\u001b[0m         \u001b[1;32mtry\u001b[0m\u001b[1;33m:\u001b[0m\u001b[1;33m\u001b[0m\u001b[1;33m\u001b[0m\u001b[0m\n\u001b[1;32m--> 474\u001b[1;33m             \u001b[0msheetx\u001b[0m \u001b[1;33m=\u001b[0m \u001b[0mself\u001b[0m\u001b[1;33m.\u001b[0m\u001b[0m_sheet_names\u001b[0m\u001b[1;33m.\u001b[0m\u001b[0mindex\u001b[0m\u001b[1;33m(\u001b[0m\u001b[0msheet_name\u001b[0m\u001b[1;33m)\u001b[0m\u001b[1;33m\u001b[0m\u001b[1;33m\u001b[0m\u001b[0m\n\u001b[0m\u001b[0;32m    475\u001b[0m         \u001b[1;32mexcept\u001b[0m \u001b[0mValueError\u001b[0m\u001b[1;33m:\u001b[0m\u001b[1;33m\u001b[0m\u001b[1;33m\u001b[0m\u001b[0m\n",
      "\u001b[1;31mValueError\u001b[0m: 'DATA' is not in list",
      "\nDuring handling of the above exception, another exception occurred:\n",
      "\u001b[1;31mXLRDError\u001b[0m                                 Traceback (most recent call last)",
      "\u001b[1;32m<ipython-input-10-f4635ed18cd8>\u001b[0m in \u001b[0;36m<module>\u001b[1;34m\u001b[0m\n\u001b[0;32m      2\u001b[0m \u001b[1;32mimport\u001b[0m \u001b[0mpandas\u001b[0m \u001b[1;32mas\u001b[0m \u001b[0mpd\u001b[0m\u001b[1;33m\u001b[0m\u001b[1;33m\u001b[0m\u001b[0m\n\u001b[0;32m      3\u001b[0m \u001b[1;32mimport\u001b[0m \u001b[0mmatplotlib\u001b[0m\u001b[1;33m.\u001b[0m\u001b[0mpyplot\u001b[0m \u001b[1;32mas\u001b[0m \u001b[0mplt\u001b[0m\u001b[1;33m\u001b[0m\u001b[1;33m\u001b[0m\u001b[0m\n\u001b[1;32m----> 4\u001b[1;33m \u001b[0mdata_df\u001b[0m\u001b[1;33m=\u001b[0m\u001b[0mpd\u001b[0m\u001b[1;33m.\u001b[0m\u001b[0mread_excel\u001b[0m\u001b[1;33m(\u001b[0m\u001b[1;34m'DATA.xlsx'\u001b[0m\u001b[1;33m,\u001b[0m\u001b[1;34m'DATA'\u001b[0m\u001b[1;33m,\u001b[0m\u001b[0mindex_col\u001b[0m\u001b[1;33m=\u001b[0m\u001b[1;32mNone\u001b[0m\u001b[1;33m,\u001b[0m\u001b[0mna_value\u001b[0m\u001b[1;33m=\u001b[0m\u001b[1;33m[\u001b[0m\u001b[1;34m'NA'\u001b[0m\u001b[1;33m]\u001b[0m\u001b[1;33m)\u001b[0m\u001b[1;33m\u001b[0m\u001b[1;33m\u001b[0m\u001b[0m\n\u001b[0m\u001b[0;32m      5\u001b[0m \u001b[0mdata_df\u001b[0m\u001b[1;33m.\u001b[0m\u001b[0mhead\u001b[0m\u001b[1;33m\u001b[0m\u001b[1;33m\u001b[0m\u001b[0m\n",
      "\u001b[1;32m~\\anaconda3\\lib\\site-packages\\pandas\\io\\excel\\_base.py\u001b[0m in \u001b[0;36mread_excel\u001b[1;34m(io, sheet_name, header, names, index_col, usecols, squeeze, dtype, engine, converters, true_values, false_values, skiprows, nrows, na_values, keep_default_na, verbose, parse_dates, date_parser, thousands, comment, skipfooter, convert_float, mangle_dupe_cols, **kwds)\u001b[0m\n\u001b[0;32m    309\u001b[0m         )\n\u001b[0;32m    310\u001b[0m \u001b[1;33m\u001b[0m\u001b[0m\n\u001b[1;32m--> 311\u001b[1;33m     return io.parse(\n\u001b[0m\u001b[0;32m    312\u001b[0m         \u001b[0msheet_name\u001b[0m\u001b[1;33m=\u001b[0m\u001b[0msheet_name\u001b[0m\u001b[1;33m,\u001b[0m\u001b[1;33m\u001b[0m\u001b[1;33m\u001b[0m\u001b[0m\n\u001b[0;32m    313\u001b[0m         \u001b[0mheader\u001b[0m\u001b[1;33m=\u001b[0m\u001b[0mheader\u001b[0m\u001b[1;33m,\u001b[0m\u001b[1;33m\u001b[0m\u001b[1;33m\u001b[0m\u001b[0m\n",
      "\u001b[1;32m~\\anaconda3\\lib\\site-packages\\pandas\\io\\excel\\_base.py\u001b[0m in \u001b[0;36mparse\u001b[1;34m(self, sheet_name, header, names, index_col, usecols, squeeze, converters, true_values, false_values, skiprows, nrows, na_values, parse_dates, date_parser, thousands, comment, skipfooter, convert_float, mangle_dupe_cols, **kwds)\u001b[0m\n\u001b[0;32m    866\u001b[0m             )\n\u001b[0;32m    867\u001b[0m \u001b[1;33m\u001b[0m\u001b[0m\n\u001b[1;32m--> 868\u001b[1;33m         return self._reader.parse(\n\u001b[0m\u001b[0;32m    869\u001b[0m             \u001b[0msheet_name\u001b[0m\u001b[1;33m=\u001b[0m\u001b[0msheet_name\u001b[0m\u001b[1;33m,\u001b[0m\u001b[1;33m\u001b[0m\u001b[1;33m\u001b[0m\u001b[0m\n\u001b[0;32m    870\u001b[0m             \u001b[0mheader\u001b[0m\u001b[1;33m=\u001b[0m\u001b[0mheader\u001b[0m\u001b[1;33m,\u001b[0m\u001b[1;33m\u001b[0m\u001b[1;33m\u001b[0m\u001b[0m\n",
      "\u001b[1;32m~\\anaconda3\\lib\\site-packages\\pandas\\io\\excel\\_base.py\u001b[0m in \u001b[0;36mparse\u001b[1;34m(self, sheet_name, header, names, index_col, usecols, squeeze, dtype, true_values, false_values, skiprows, nrows, na_values, verbose, parse_dates, date_parser, thousands, comment, skipfooter, convert_float, mangle_dupe_cols, **kwds)\u001b[0m\n\u001b[0;32m    437\u001b[0m \u001b[1;33m\u001b[0m\u001b[0m\n\u001b[0;32m    438\u001b[0m             \u001b[1;32mif\u001b[0m \u001b[0misinstance\u001b[0m\u001b[1;33m(\u001b[0m\u001b[0masheetname\u001b[0m\u001b[1;33m,\u001b[0m \u001b[0mstr\u001b[0m\u001b[1;33m)\u001b[0m\u001b[1;33m:\u001b[0m\u001b[1;33m\u001b[0m\u001b[1;33m\u001b[0m\u001b[0m\n\u001b[1;32m--> 439\u001b[1;33m                 \u001b[0msheet\u001b[0m \u001b[1;33m=\u001b[0m \u001b[0mself\u001b[0m\u001b[1;33m.\u001b[0m\u001b[0mget_sheet_by_name\u001b[0m\u001b[1;33m(\u001b[0m\u001b[0masheetname\u001b[0m\u001b[1;33m)\u001b[0m\u001b[1;33m\u001b[0m\u001b[1;33m\u001b[0m\u001b[0m\n\u001b[0m\u001b[0;32m    440\u001b[0m             \u001b[1;32melse\u001b[0m\u001b[1;33m:\u001b[0m  \u001b[1;31m# assume an integer if not a string\u001b[0m\u001b[1;33m\u001b[0m\u001b[1;33m\u001b[0m\u001b[0m\n\u001b[0;32m    441\u001b[0m                 \u001b[0msheet\u001b[0m \u001b[1;33m=\u001b[0m \u001b[0mself\u001b[0m\u001b[1;33m.\u001b[0m\u001b[0mget_sheet_by_index\u001b[0m\u001b[1;33m(\u001b[0m\u001b[0masheetname\u001b[0m\u001b[1;33m)\u001b[0m\u001b[1;33m\u001b[0m\u001b[1;33m\u001b[0m\u001b[0m\n",
      "\u001b[1;32m~\\anaconda3\\lib\\site-packages\\pandas\\io\\excel\\_xlrd.py\u001b[0m in \u001b[0;36mget_sheet_by_name\u001b[1;34m(self, name)\u001b[0m\n\u001b[0;32m     41\u001b[0m \u001b[1;33m\u001b[0m\u001b[0m\n\u001b[0;32m     42\u001b[0m     \u001b[1;32mdef\u001b[0m \u001b[0mget_sheet_by_name\u001b[0m\u001b[1;33m(\u001b[0m\u001b[0mself\u001b[0m\u001b[1;33m,\u001b[0m \u001b[0mname\u001b[0m\u001b[1;33m)\u001b[0m\u001b[1;33m:\u001b[0m\u001b[1;33m\u001b[0m\u001b[1;33m\u001b[0m\u001b[0m\n\u001b[1;32m---> 43\u001b[1;33m         \u001b[1;32mreturn\u001b[0m \u001b[0mself\u001b[0m\u001b[1;33m.\u001b[0m\u001b[0mbook\u001b[0m\u001b[1;33m.\u001b[0m\u001b[0msheet_by_name\u001b[0m\u001b[1;33m(\u001b[0m\u001b[0mname\u001b[0m\u001b[1;33m)\u001b[0m\u001b[1;33m\u001b[0m\u001b[1;33m\u001b[0m\u001b[0m\n\u001b[0m\u001b[0;32m     44\u001b[0m \u001b[1;33m\u001b[0m\u001b[0m\n\u001b[0;32m     45\u001b[0m     \u001b[1;32mdef\u001b[0m \u001b[0mget_sheet_by_index\u001b[0m\u001b[1;33m(\u001b[0m\u001b[0mself\u001b[0m\u001b[1;33m,\u001b[0m \u001b[0mindex\u001b[0m\u001b[1;33m)\u001b[0m\u001b[1;33m:\u001b[0m\u001b[1;33m\u001b[0m\u001b[1;33m\u001b[0m\u001b[0m\n",
      "\u001b[1;32m~\\anaconda3\\lib\\site-packages\\xlrd\\book.py\u001b[0m in \u001b[0;36msheet_by_name\u001b[1;34m(self, sheet_name)\u001b[0m\n\u001b[0;32m    474\u001b[0m             \u001b[0msheetx\u001b[0m \u001b[1;33m=\u001b[0m \u001b[0mself\u001b[0m\u001b[1;33m.\u001b[0m\u001b[0m_sheet_names\u001b[0m\u001b[1;33m.\u001b[0m\u001b[0mindex\u001b[0m\u001b[1;33m(\u001b[0m\u001b[0msheet_name\u001b[0m\u001b[1;33m)\u001b[0m\u001b[1;33m\u001b[0m\u001b[1;33m\u001b[0m\u001b[0m\n\u001b[0;32m    475\u001b[0m         \u001b[1;32mexcept\u001b[0m \u001b[0mValueError\u001b[0m\u001b[1;33m:\u001b[0m\u001b[1;33m\u001b[0m\u001b[1;33m\u001b[0m\u001b[0m\n\u001b[1;32m--> 476\u001b[1;33m             \u001b[1;32mraise\u001b[0m \u001b[0mXLRDError\u001b[0m\u001b[1;33m(\u001b[0m\u001b[1;34m'No sheet named <%r>'\u001b[0m \u001b[1;33m%\u001b[0m \u001b[0msheet_name\u001b[0m\u001b[1;33m)\u001b[0m\u001b[1;33m\u001b[0m\u001b[1;33m\u001b[0m\u001b[0m\n\u001b[0m\u001b[0;32m    477\u001b[0m         \u001b[1;32mreturn\u001b[0m \u001b[0mself\u001b[0m\u001b[1;33m.\u001b[0m\u001b[0msheet_by_index\u001b[0m\u001b[1;33m(\u001b[0m\u001b[0msheetx\u001b[0m\u001b[1;33m)\u001b[0m\u001b[1;33m\u001b[0m\u001b[1;33m\u001b[0m\u001b[0m\n\u001b[0;32m    478\u001b[0m \u001b[1;33m\u001b[0m\u001b[0m\n",
      "\u001b[1;31mXLRDError\u001b[0m: No sheet named <'DATA'>"
     ]
    }
   ],
   "source": [
    "import numpy as np\n",
    "import pandas as pd\n",
    "import matplotlib.pyplot as plt\n",
    "data_df=pd.read_excel('DATA.xlsx','DATA',index_col=None,na_value=['NA'])\n",
    "data_df.head"
   ]
  },
  {
   "cell_type": "code",
   "execution_count": 35,
   "metadata": {},
   "outputs": [
    {
     "name": "stdout",
     "output_type": "stream",
     "text": [
      "2\n",
      "3 2 2\n",
      "1 2\n",
      "3 4\n",
      "Yes\n",
      "4 2 2\n",
      "1 2\n",
      "3 4\n",
      "Yes\n"
     ]
    }
   ],
   "source": [
    "import numpy as np\n",
    "\n",
    "def findarr(arr,k):\n",
    "    for i in arr:\n",
    "        if(any(k for j in i)==True):\n",
    "            print(\"Yes\")\n",
    "            break\n",
    "        else:\n",
    "            print(\"No\")\n",
    "\n",
    "t=int(input())\n",
    "for i in range(t):\n",
    "    k,n,m=map(int, input().split())\n",
    "    arr=np.array([input().split() for i in range(n)], dtype=int)\n",
    "    findarr(arr,k)"
   ]
  },
  {
   "cell_type": "code",
   "execution_count": 51,
   "metadata": {},
   "outputs": [
    {
     "name": "stdout",
     "output_type": "stream",
     "text": [
      "3\n",
      "2\n",
      "True\n"
     ]
    }
   ],
   "source": [
    "import numpy as np\n",
    "\n",
    "def arr(arr,x):\n",
    "    n=len(arr)\n",
    "    m=len(arr[0])\n",
    "    print(n)\n",
    "    print(m)\n",
    "    for i in range(n):\n",
    "        for j in range(m):\n",
    "            if(arr[i][j]==x):\n",
    "                return True\n",
    "                \n",
    "    return False\n",
    "\n",
    "a=np.array([[2,3],[4,3],[4,5]])\n",
    "print(arr(a,5))\n",
    "        "
   ]
  },
  {
   "cell_type": "code",
   "execution_count": 50,
   "metadata": {},
   "outputs": [
    {
     "data": {
      "text/plain": [
       "(3, 2)"
      ]
     },
     "execution_count": 50,
     "metadata": {},
     "output_type": "execute_result"
    }
   ],
   "source": [
    "a.shape"
   ]
  }
 ],
 "metadata": {
  "kernelspec": {
   "display_name": "Python 3",
   "language": "python",
   "name": "python3"
  },
  "language_info": {
   "codemirror_mode": {
    "name": "ipython",
    "version": 3
   },
   "file_extension": ".py",
   "mimetype": "text/x-python",
   "name": "python",
   "nbconvert_exporter": "python",
   "pygments_lexer": "ipython3",
   "version": "3.8.3"
  }
 },
 "nbformat": 4,
 "nbformat_minor": 4
}
